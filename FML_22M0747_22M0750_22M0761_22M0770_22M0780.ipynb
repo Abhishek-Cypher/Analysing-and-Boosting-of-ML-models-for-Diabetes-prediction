{
  "nbformat": 4,
  "nbformat_minor": 0,
  "metadata": {
    "colab": {
      "provenance": [],
      "toc_visible": true
    },
    "kernelspec": {
      "name": "python3",
      "display_name": "Python 3"
    },
    "language_info": {
      "name": "python"
    }
  },
  "cells": [
    {
      "cell_type": "markdown",
      "source": [
        "# Importing Libraries and Dataset"
      ],
      "metadata": {
        "id": "JcAsOHvr1kkc"
      }
    },
    {
      "cell_type": "code",
      "execution_count": null,
      "metadata": {
        "id": "zM_EdXn_1asv"
      },
      "outputs": [],
      "source": [
        "import pandas as pd\n",
        "import numpy as np\n",
        "import seaborn as sns\n",
        "import matplotlib.pyplot as plt\n",
        "\n",
        "from sklearn.model_selection import train_test_split\n",
        "\n",
        "#Logistic Regression\n",
        "from sklearn.linear_model import LogisticRegression\n",
        "\n",
        "\n",
        "from sklearn.metrics import accuracy_score\n",
        "from sklearn.metrics import ConfusionMatrixDisplay"
      ]
    },
    {
      "cell_type": "code",
      "source": [
        "file_url = 'https://raw.githubusercontent.com/bs-cse-iitb/FML_Project/main/diabetes_full.csv'\n",
        "dataset = pd.read_csv(file_url)"
      ],
      "metadata": {
        "id": "9IpXkyBY2Tc5"
      },
      "execution_count": null,
      "outputs": []
    },
    {
      "cell_type": "markdown",
      "source": [
        "# Exploratory Data Analysis \n",
        "\n",
        "The dataset has 20 Features columns and 1 Target column with 253680 records in total.\n",
        "\n",
        "\"Diabetes_012\" column Represents the target variable "
      ],
      "metadata": {
        "id": "MZq7R3Hq2AtB"
      }
    },
    {
      "cell_type": "code",
      "source": [
        "print(dataset.info())"
      ],
      "metadata": {
        "id": "BQXr8WTs15B1",
        "colab": {
          "base_uri": "https://localhost:8080/"
        },
        "outputId": "48b83ce1-69f6-4ecc-da69-8b8d95a8bc65"
      },
      "execution_count": null,
      "outputs": [
        {
          "output_type": "stream",
          "name": "stdout",
          "text": [
            "<class 'pandas.core.frame.DataFrame'>\n",
            "RangeIndex: 253680 entries, 0 to 253679\n",
            "Data columns (total 22 columns):\n",
            " #   Column                Non-Null Count   Dtype  \n",
            "---  ------                --------------   -----  \n",
            " 0   Diabetes_012          253680 non-null  float64\n",
            " 1   HighBP                253680 non-null  float64\n",
            " 2   HighChol              253680 non-null  float64\n",
            " 3   CholCheck             253680 non-null  float64\n",
            " 4   BMI                   253680 non-null  float64\n",
            " 5   Smoker                253680 non-null  float64\n",
            " 6   Stroke                253680 non-null  float64\n",
            " 7   HeartDiseaseorAttack  253680 non-null  float64\n",
            " 8   PhysActivity          253680 non-null  float64\n",
            " 9   Fruits                253680 non-null  float64\n",
            " 10  Veggies               253680 non-null  float64\n",
            " 11  HvyAlcoholConsump     253680 non-null  float64\n",
            " 12  AnyHealthcare         253680 non-null  float64\n",
            " 13  NoDocbcCost           253680 non-null  float64\n",
            " 14  GenHlth               253680 non-null  float64\n",
            " 15  MentHlth              253680 non-null  float64\n",
            " 16  PhysHlth              253680 non-null  float64\n",
            " 17  DiffWalk              253680 non-null  float64\n",
            " 18  Sex                   253680 non-null  float64\n",
            " 19  Age                   253680 non-null  float64\n",
            " 20  Education             253680 non-null  float64\n",
            " 21  Income                253680 non-null  float64\n",
            "dtypes: float64(22)\n",
            "memory usage: 42.6 MB\n",
            "None\n"
          ]
        }
      ]
    },
    {
      "cell_type": "markdown",
      "source": [
        "### Checking for Missing Values\n",
        "\n",
        "We can see that their are no null values in the dataeset"
      ],
      "metadata": {
        "id": "A38uMh7m3sgn"
      }
    },
    {
      "cell_type": "code",
      "source": [
        "dataset.isnull().sum()"
      ],
      "metadata": {
        "colab": {
          "base_uri": "https://localhost:8080/"
        },
        "id": "2nCNPW7y3owy",
        "outputId": "5364612b-f87b-40c3-be19-f7cbb8b79dd7"
      },
      "execution_count": null,
      "outputs": [
        {
          "output_type": "execute_result",
          "data": {
            "text/plain": [
              "Diabetes_012            0\n",
              "HighBP                  0\n",
              "HighChol                0\n",
              "CholCheck               0\n",
              "BMI                     0\n",
              "Smoker                  0\n",
              "Stroke                  0\n",
              "HeartDiseaseorAttack    0\n",
              "PhysActivity            0\n",
              "Fruits                  0\n",
              "Veggies                 0\n",
              "HvyAlcoholConsump       0\n",
              "AnyHealthcare           0\n",
              "NoDocbcCost             0\n",
              "GenHlth                 0\n",
              "MentHlth                0\n",
              "PhysHlth                0\n",
              "DiffWalk                0\n",
              "Sex                     0\n",
              "Age                     0\n",
              "Education               0\n",
              "Income                  0\n",
              "dtype: int64"
            ]
          },
          "metadata": {},
          "execution_count": 4
        }
      ]
    },
    {
      "cell_type": "markdown",
      "source": [
        "## Checking the frequency of target variable classes \n",
        "\n",
        "Here class 0 represent No Diabetes, class 1 reperesent Pre Diabetes \n",
        "and class 2 represent Diabetes \n",
        "\n",
        "We can see that the data is skewed and hence we are combinining class 1 and 2 into a single class 1 (representing Diabetes)"
      ],
      "metadata": {
        "id": "li2QZOH-OKqg"
      }
    },
    {
      "cell_type": "code",
      "source": [
        "class_index = list(dataset.Diabetes_012.value_counts().index)\n",
        "class_frequency = list(dataset.Diabetes_012.value_counts().values)\n",
        "\n",
        "sns.set_style('darkgrid')\n",
        "plt.pie(dataset.Diabetes_012.value_counts(),labels=[\"No Diabetes\",\"Prediabetes\",\"Diabetes\"],autopct='%.2f')\n",
        "plt.savefig('target_012_pie.png',bbox_inches=\"tight\")"
      ],
      "metadata": {
        "colab": {
          "base_uri": "https://localhost:8080/",
          "height": 248
        },
        "id": "Bg9OwyRKORol",
        "outputId": "2fec0339-7641-4430-d2c7-b5614f577c14"
      },
      "execution_count": null,
      "outputs": [
        {
          "output_type": "display_data",
          "data": {
            "text/plain": [
              "<Figure size 432x288 with 1 Axes>"
            ],
            "image/png": "[encoded data removed]"
          },
          "metadata": {}
        }
      ]
    },
    {
      "cell_type": "code",
      "source": [
        "sns.barplot(class_index,class_frequency)\n",
        "plt.savefig('target_012_barplot.png',bbox_inches='tight')"
      ],
      "metadata": {
        "colab": {
          "base_uri": "https://localhost:8080/",
          "height": 320
        },
        "id": "t02ZUzCKVGl9",
        "outputId": "51cec013-a1a0-482e-959d-48a91b80d67d"
      },
      "execution_count": null,
      "outputs": [
        {
          "output_type": "stream",
          "name": "stderr",
          "text": [
            "/usr/local/lib/python3.7/dist-packages/seaborn/_decorators.py:43: FutureWarning: Pass the following variables as keyword args: x, y. From version 0.12, the only valid positional argument will be `data`, and passing other arguments without an explicit keyword will result in an error or misinterpretation.\n",
            "  FutureWarning\n"
          ]
        },
        {
          "output_type": "display_data",
          "data": {
            "text/plain": [
              "<Figure size 432x288 with 1 Axes>"
            ],
            "image/png": "[encoded data removed]"
          },
          "metadata": {}
        }
      ]
    },
    {
      "cell_type": "code",
      "source": [
        "#Combining class 1 and 2 into a single class 1 \n",
        "\n",
        "dataset['Diabetes_012'] = np.where(dataset['Diabetes_012'] == 0.0,0.0,1.0)\n",
        "dataset.Diabetes_012.value_counts()\n",
        "dataset.rename(columns={'Diabetes_012':'Diabetes_binary'},inplace=True)\n",
        "print(dataset.Diabetes_binary.value_counts())"
      ],
      "metadata": {
        "colab": {
          "base_uri": "https://localhost:8080/"
        },
        "id": "KIi0evZiQI_P",
        "outputId": "30fbdef1-302f-4f61-bdb7-25e96637f8c7"
      },
      "execution_count": null,
      "outputs": [
        {
          "output_type": "stream",
          "name": "stdout",
          "text": [
            "0.0    213703\n",
            "1.0     39977\n",
            "Name: Diabetes_binary, dtype: int64\n"
          ]
        }
      ]
    },
    {
      "cell_type": "markdown",
      "source": [
        "## Plotting the Correlation of every pair of columns"
      ],
      "metadata": {
        "id": "2JOToIVi4CLK"
      }
    },
    {
      "cell_type": "code",
      "source": [
        "plt.figure(figsize = (20,15))\n",
        "sns.heatmap(dataset.corr(),annot=True,linewidths=0.5,cmap='coolwarm')\n"
      ],
      "metadata": {
        "colab": {
          "base_uri": "https://localhost:8080/",
          "height": 918
        },
        "id": "9cj4Lxjx4SvV",
        "outputId": "c39b286e-3edf-45b3-c1d8-f43acc99a84e"
      },
      "execution_count": null,
      "outputs": [
        {
          "output_type": "execute_result",
          "data": {
            "text/plain": [
              "<matplotlib.axes._subplots.AxesSubplot at 0x7f7c78089f90>"
            ]
          },
          "metadata": {},
          "execution_count": 9
        },
        {
          "output_type": "display_data",
          "data": {
            "text/plain": [
              "<Figure size 1440x1080 with 2 Axes>"
            ],
            "image/png": "[encoded data removed]"
          },
          "metadata": {}
        }
      ]
    },
    {
      "cell_type": "markdown",
      "source": [
        "## Plotting the Correlation of features against target column\n",
        "\n",
        " Fruits, Veggies, AnyHealthcare, NoDocbcCost,Sex have the lowest correlation with the target variable"
      ],
      "metadata": {
        "id": "hDWGg4ooNxEy"
      }
    },
    {
      "cell_type": "code",
      "source": [
        "corr = dataset.corr()\n",
        "graph = sns.barplot(corr.Diabetes_binary.index,corr.Diabetes_binary.values)\n",
        "graph.set_xticklabels(labels=corr.Diabetes_binary.index, rotation=90)\n",
        "\n",
        "plt.show()\n",
        "\n",
        "plt.savefig(\"target_corr_bar.png\",bbox_inches='tight')"
      ],
      "metadata": {
        "colab": {
          "base_uri": "https://localhost:8080/",
          "height": 437
        },
        "id": "F0VvCP18N90T",
        "outputId": "8e94bdc5-94f5-46de-db73-9ee401c5192b"
      },
      "execution_count": null,
      "outputs": [
        {
          "output_type": "stream",
          "name": "stderr",
          "text": [
            "/usr/local/lib/python3.7/dist-packages/seaborn/_decorators.py:43: FutureWarning: Pass the following variables as keyword args: x, y. From version 0.12, the only valid positional argument will be `data`, and passing other arguments without an explicit keyword will result in an error or misinterpretation.\n",
            "  FutureWarning\n"
          ]
        },
        {
          "output_type": "display_data",
          "data": {
            "text/plain": [
              "<Figure size 432x288 with 1 Axes>"
            ],
            "image/png": "[encoded data removed]"
          },
          "metadata": {}
        },
        {
          "output_type": "display_data",
          "data": {
            "text/plain": [
              "<Figure size 432x288 with 0 Axes>"
            ]
          },
          "metadata": {}
        }
      ]
    },
    {
      "cell_type": "markdown",
      "source": [
        "Dropping the columns with lowest correlation"
      ],
      "metadata": {
        "id": "zNW9dhqIio1Y"
      }
    },
    {
      "cell_type": "code",
      "source": [
        "variables_to_drop = ['Fruits','Veggies','AnyHealthcare','NoDocbcCost','Sex']\n",
        "dataset.drop(variables_to_drop,axis=1,inplace=True)\n"
      ],
      "metadata": {
        "id": "dq0dwujlioTJ"
      },
      "execution_count": null,
      "outputs": []
    },
    {
      "cell_type": "markdown",
      "source": [
        "# Logistic Regression\n"
      ],
      "metadata": {
        "id": "39YecpwAW8q8"
      }
    },
    {
      "cell_type": "markdown",
      "source": [
        "## Preprocessing"
      ],
      "metadata": {
        "id": "0gPfPtWEZGtK"
      }
    },
    {
      "cell_type": "code",
      "source": [
        "data = dataset.drop_duplicates()"
      ],
      "metadata": {
        "id": "BroGBEh_XZpk"
      },
      "execution_count": null,
      "outputs": []
    },
    {
      "cell_type": "code",
      "source": [
        "y = data.Diabetes_binary\n",
        "X = data.drop('Diabetes_binary',axis = 1)"
      ],
      "metadata": {
        "id": "cQSQgFZ3YnZ0"
      },
      "execution_count": null,
      "outputs": []
    },
    {
      "cell_type": "code",
      "source": [
        "#One Hot Encoding \n",
        "continous_var_list = []\n",
        "categorical_var  = []\n",
        "for var in X.columns:\n",
        "  if var not in continous_var_list:\n",
        "    categorical_var.append(var)\n",
        "\n",
        "X = pd.get_dummies(X,columns=categorical_var)"
      ],
      "metadata": {
        "id": "AOfSAgepebvN"
      },
      "execution_count": null,
      "outputs": []
    },
    {
      "cell_type": "code",
      "source": [
        "from imblearn.under_sampling import NearMiss,CondensedNearestNeighbour,TomekLinks,EditedNearestNeighbours\n",
        "\n",
        "# nm = TomekLinks() # 0.835876 - 15min\n",
        "# nm = EditedNearestNeighbours(n_neighbors=3) # 0.851282 - 12min (n=3)\n",
        "# nm = NearMiss(version = 1 , n_neighbors = 20) #0.856585 - 5min (n=20) // 0.853439 when 1-Hot done after undersampling\n",
        "# nm = NearMiss(version = 1 , n_neighbors = 10) #0.856900 - 4min (n=10) // 0.849852 when 1-Hot done after undersampling\n",
        "# nm = NearMiss(version = 1 , n_neighbors = 5) #0.844755 - 3min (n=5)\n",
        "\n",
        "from imblearn.over_sampling import RandomOverSampler, SMOTE, ADASYN\n",
        "nm = SMOTE() # 0.872103 - 48sec\n",
        "# nm = ADASYN() # 0.869746\n",
        "\n",
        "x_sm,y_sm= nm.fit_resample(X,y)\n",
        "X,y=x_sm,y_sm \n",
        "\n",
        "print(X.shape)"
      ],
      "metadata": {
        "colab": {
          "base_uri": "https://localhost:8080/"
        },
        "id": "JCxL8CwFZCp-",
        "outputId": "9cc2aaed-f652-4bec-b464-8d14742f5e44"
      },
      "execution_count": null,
      "outputs": [
        {
          "output_type": "stream",
          "name": "stdout",
          "text": [
            "(335242, 196)\n"
          ]
        }
      ]
    },
    {
      "cell_type": "markdown",
      "source": [
        "## Train Test Split"
      ],
      "metadata": {
        "id": "yRTsr3w1ZT2k"
      }
    },
    {
      "cell_type": "code",
      "source": [
        "X_train,X_test,y_train,y_test = train_test_split(X,y,random_state=42,train_size=0.8)"
      ],
      "metadata": {
        "id": "ZbdLohMKZNuR"
      },
      "execution_count": null,
      "outputs": []
    },
    {
      "cell_type": "markdown",
      "source": [
        "##Trying Different Scaling Methods"
      ],
      "metadata": {
        "id": "NFJjHhNRZkb9"
      }
    },
    {
      "cell_type": "code",
      "source": [
        "from sklearn.preprocessing import MaxAbsScaler,StandardScaler,MinMaxScaler,RobustScaler,PowerTransformer,QuantileTransformer\n",
        "scaler = MinMaxScaler().fit(X_train)\n",
        "X_train = scaler.transform(X_train)\n",
        "X_test = scaler.transform(X_test)  "
      ],
      "metadata": {
        "id": "Vwk1Bw-tZuQy"
      },
      "execution_count": null,
      "outputs": []
    },
    {
      "cell_type": "markdown",
      "source": [
        "## Grid Seach Implementation for logistic Regression"
      ],
      "metadata": {
        "id": "XdN0JOTLaPYk"
      }
    },
    {
      "cell_type": "code",
      "source": [
        "best_model = None\n",
        "inv_regularization_constant = None\n",
        "l1_ratio = None \n",
        "max_accuracy = 0.0\n",
        "for i in np.arange(0.1,1.1,0.2):\n",
        "  for j in np.arange(0.1,1.1,0.2):\n",
        "\n",
        "    logisticRegressionModel = LogisticRegression(max_iter = 1000, solver='saga', penalty='elasticnet', C=i, l1_ratio=j, tol=1e-3, warm_start=True)\n",
        "    logisticRegressionModel.fit(X_train, y_train)\n",
        "    y_pred = logisticRegressionModel.predict(X_test)\n",
        "    current_accuracy = accuracy_score(y_test, y_pred)\n",
        "    if(current_accuracy > max_accuracy):\n",
        "      best_model = logisticRegressionModel\n",
        "      max_accuracy = current_accuracy\n",
        "      l1_ratio = j\n",
        "      inv_regularization_constant  = i\n",
        "\n",
        "print(\"Logistic Regression Test Maximum Accuracy = \"+ str(max_accuracy) + \" , obtained for Inverse Regularization Constant = \"+str(inv_regularization_constant) + \" and L1 Regularization Ratio = \"+str(l1_ratio))\n",
        "\n",
        "logisticRegressionModel = best_model"
      ],
      "metadata": {
        "colab": {
          "base_uri": "https://localhost:8080/"
        },
        "id": "EU9QPhcgaCW5",
        "outputId": "6106ba7c-4d23-43a0-ed4a-28855a97ad79"
      },
      "execution_count": null,
      "outputs": [
        {
          "output_type": "stream",
          "name": "stdout",
          "text": [
            "Logistic Regression Test Maximum Accuracy = 0.8726901221494727 , obtained for Inverse Regularization Constant = 0.9000000000000001 and L1 Regularization Ratio = 0.9000000000000001\n"
          ]
        }
      ]
    },
    {
      "cell_type": "markdown",
      "source": [
        "## Evaluating Model Performance"
      ],
      "metadata": {
        "id": "8Ri1JxVMkl2P"
      }
    },
    {
      "cell_type": "code",
      "source": [
        "Y_pred = logisticRegressionModel.predict(X_test)\n",
        "Y_val = logisticRegressionModel.predict(X_train)\n",
        "\n",
        "from sklearn.metrics import classification_report,confusion_matrix,ConfusionMatrixDisplay\n",
        "\n",
        "print(\"~~~~~~~  TRAIN ACCURACY  ~~~~~~~\")\n",
        "print(classification_report(y_train, Y_val, digits=6))\n",
        "\n",
        "print(\"~~~~~~~  TEST ACCURACY  ~~~~~~~\")\n",
        "print(classification_report(y_test, Y_pred, digits=6))"
      ],
      "metadata": {
        "colab": {
          "base_uri": "https://localhost:8080/"
        },
        "id": "5-wUle5jcU2a",
        "outputId": "157d09df-a428-4e2e-9091-3a42f50c57ad"
      },
      "execution_count": null,
      "outputs": [
        {
          "output_type": "stream",
          "name": "stdout",
          "text": [
            "~~~~~~~  TRAIN ACCURACY  ~~~~~~~\n",
            "              precision    recall  f1-score   support\n",
            "\n",
            "         0.0   0.795659  0.999993  0.886200    134009\n",
            "         1.0   0.999990  0.743516  0.852889    134184\n",
            "\n",
            "    accuracy                       0.871671    268193\n",
            "   macro avg   0.897824  0.871754  0.869544    268193\n",
            "weighted avg   0.897891  0.871671  0.869534    268193\n",
            "\n",
            "~~~~~~~  TEST ACCURACY  ~~~~~~~\n",
            "              precision    recall  f1-score   support\n",
            "\n",
            "         0.0   0.797476  1.000000  0.887328     33612\n",
            "         1.0   1.000000  0.744714  0.853680     33437\n",
            "\n",
            "    accuracy                       0.872690     67049\n",
            "   macro avg   0.898738  0.872357  0.870504     67049\n",
            "weighted avg   0.898473  0.872690  0.870548     67049\n",
            "\n"
          ]
        }
      ]
    },
    {
      "cell_type": "markdown",
      "source": [
        "# Naive Bayes"
      ],
      "metadata": {
        "id": "veoK6RAycpu8"
      }
    },
    {
      "cell_type": "markdown",
      "source": [
        "## Preprocessing"
      ],
      "metadata": {
        "id": "YVppEb-rdZn9"
      }
    },
    {
      "cell_type": "markdown",
      "source": [
        "Since Naive Bayes has an assumption that features are conditionally independent hence removing the columns which have high correlation with each other"
      ],
      "metadata": {
        "id": "0HN9WlUNdb5s"
      }
    },
    {
      "cell_type": "code",
      "source": [
        "df = dataset"
      ],
      "metadata": {
        "id": "x8AgnNGoewS7"
      },
      "execution_count": null,
      "outputs": []
    },
    {
      "cell_type": "code",
      "source": [
        "#Identifying the columns with high correlation among each other\n",
        "\n",
        "cor_matrix=df.corr().abs()\n",
        "upper_tri = cor_matrix.where(np.triu(np.ones(cor_matrix.shape),k=1).astype(bool))\n",
        "[column for column in upper_tri.columns if any(upper_tri[column] > 0.32)]"
      ],
      "metadata": {
        "colab": {
          "base_uri": "https://localhost:8080/"
        },
        "id": "8hIxCWMSdzOL",
        "outputId": "d192ca27-e2ce-4bf5-b5bd-325583740535"
      },
      "execution_count": null,
      "outputs": [
        {
          "output_type": "execute_result",
          "data": {
            "text/plain": [
              "['PhysHlth', 'DiffWalk', 'Age', 'Income']"
            ]
          },
          "metadata": {},
          "execution_count": 21
        }
      ]
    },
    {
      "cell_type": "code",
      "source": [
        "#Columns with high correlation\n",
        "df.drop(['PhysHlth', 'Income', 'DiffWalk', 'MentHlth'],axis=1,inplace=True)"
      ],
      "metadata": {
        "id": "PLSU_4e5csK-"
      },
      "execution_count": null,
      "outputs": []
    },
    {
      "cell_type": "code",
      "source": [
        "X = df.drop(['Diabetes_binary'], axis=1)\n",
        "y = df['Diabetes_binary']\n",
        "\n",
        "X = np.asarray(X)\n",
        "y = np.asarray(y)"
      ],
      "metadata": {
        "id": "ZA_c4Rd7fPGl"
      },
      "execution_count": null,
      "outputs": []
    },
    {
      "cell_type": "markdown",
      "source": [
        "## Train Test Split"
      ],
      "metadata": {
        "id": "6BFswUq0fYQp"
      }
    },
    {
      "cell_type": "code",
      "source": [
        "X_train, X_test, y_train, y_test = train_test_split(X, y, test_size = 0.3, random_state = 42)"
      ],
      "metadata": {
        "id": "FFEuxlEcfYAR"
      },
      "execution_count": null,
      "outputs": []
    },
    {
      "cell_type": "markdown",
      "source": [
        "## Scaling the data using Standard Scaler"
      ],
      "metadata": {
        "id": "wFULkOLVfj-5"
      }
    },
    {
      "cell_type": "code",
      "source": [
        "from sklearn.preprocessing import StandardScaler\n",
        "scaler = StandardScaler().fit(X_train)\n",
        "X_train = scaler.transform(X_train)\n",
        "X_test = scaler.transform(X_test)"
      ],
      "metadata": {
        "id": "wb2hYmdpfes5"
      },
      "execution_count": null,
      "outputs": []
    },
    {
      "cell_type": "markdown",
      "source": [
        "## Training Naive Bayes Classifier"
      ],
      "metadata": {
        "id": "7Tx39zh_frF6"
      }
    },
    {
      "cell_type": "code",
      "source": [
        "from sklearn.naive_bayes import GaussianNB\n",
        "gnb = GaussianNB()\n",
        "gnb.fit(X_train, y_train)\n",
        "y_pred = gnb.predict(X_test)"
      ],
      "metadata": {
        "id": "Ql7byjpzfq5x"
      },
      "execution_count": null,
      "outputs": []
    },
    {
      "cell_type": "markdown",
      "source": [
        "## Evaluating Model Performance"
      ],
      "metadata": {
        "id": "eSFy7vc4gHra"
      }
    },
    {
      "cell_type": "code",
      "source": [
        "y_val = gnb.predict(X_train)\n",
        "y_pred = gnb.predict(X_test)\n",
        "\n",
        "print(\"~~~~~~~  TRAIN ACCURACY  ~~~~~~~\")\n",
        "print(classification_report(y_train, y_val, digits=6))\n",
        "\n",
        "print(\"~~~~~~~  TEST ACCURACY  ~~~~~~~\")\n",
        "print(classification_report(y_test, y_pred, digits=6))"
      ],
      "metadata": {
        "colab": {
          "base_uri": "https://localhost:8080/"
        },
        "id": "jWOKknqRgMu3",
        "outputId": "7858dfdd-cfae-421e-bd47-3ef517ac3d19"
      },
      "execution_count": null,
      "outputs": [
        {
          "output_type": "stream",
          "name": "stdout",
          "text": [
            "~~~~~~~  TRAIN ACCURACY  ~~~~~~~\n",
            "              precision    recall  f1-score   support\n",
            "\n",
            "         0.0   0.911229  0.823398  0.865090    149523\n",
            "         1.0   0.378170  0.572452  0.455458     28053\n",
            "\n",
            "    accuracy                       0.783755    177576\n",
            "   macro avg   0.644699  0.697925  0.660274    177576\n",
            "weighted avg   0.827017  0.783755  0.800377    177576\n",
            "\n",
            "~~~~~~~  TEST ACCURACY  ~~~~~~~\n",
            "              precision    recall  f1-score   support\n",
            "\n",
            "         0.0   0.910625  0.822343  0.864236     64180\n",
            "         1.0   0.371652  0.565582  0.448553     11924\n",
            "\n",
            "    accuracy                       0.782114     76104\n",
            "   macro avg   0.641139  0.693963  0.656394     76104\n",
            "weighted avg   0.826179  0.782114  0.799106     76104\n",
            "\n"
          ]
        }
      ]
    },
    {
      "cell_type": "markdown",
      "source": [
        "#Neural Network"
      ],
      "metadata": {
        "id": "piHWjDG_hJ0E"
      }
    },
    {
      "cell_type": "markdown",
      "source": [
        "## Preprocessing"
      ],
      "metadata": {
        "id": "KLsy5mr2hPwF"
      }
    },
    {
      "cell_type": "code",
      "source": [
        "from imblearn.under_sampling import NearMiss,CondensedNearestNeighbour,TomekLinks,EditedNearestNeighbours\n",
        "from imblearn.over_sampling import RandomOverSampler, SMOTE, ADASYN\n",
        "\n",
        "y = data.Diabetes_binary\n",
        "X = data.drop('Diabetes_binary',axis = 1)\n",
        "\n",
        "X = np.asarray(X)\n",
        "y = np.asarray(y)\n",
        "\n",
        "# nm = TomekLinks() # accuracy: 0.8358 - 10min\n",
        "# nm = EditedNearestNeighbours(n_neighbors=3) # accuracy: 0.8560 - 13min (n=3)\n",
        "nm = NearMiss(version = 1 , n_neighbors = 20) #accuracy: 0.8626 - 5min (n=20) \n",
        "# nm = NearMiss(version = 1 , n_neighbors = 10) #accuracy: 0.8559 - 4min (n=10) \n",
        "# # nm = NearMiss(version = 1 , n_neighbors = 5) #0.844755 - 3min (n=5)\n",
        "\n",
        "# from imblearn.over_sampling import RandomOverSampler, SMOTE, ADASYN\n",
        "# nm = SMOTE() # accuracy: 0.8314\n",
        "# nm = ADASYN() # accuracy: 0.8213\n",
        "\n",
        "x_sm,y_sm= nm.fit_resample(X,y)\n",
        "X,y=x_sm,y_sm \n"
      ],
      "metadata": {
        "id": "23KvrpX4hTNQ"
      },
      "execution_count": null,
      "outputs": []
    },
    {
      "cell_type": "markdown",
      "source": [
        "## Train Test Split"
      ],
      "metadata": {
        "id": "zrSvD01ah69N"
      }
    },
    {
      "cell_type": "code",
      "source": [
        "X_train,X_test,y_train,y_test = train_test_split(X,y,random_state=42,train_size=0.8)"
      ],
      "metadata": {
        "id": "w8optYavh6Np"
      },
      "execution_count": null,
      "outputs": []
    },
    {
      "cell_type": "markdown",
      "source": [
        "## Scaling the data using Robust Scaler"
      ],
      "metadata": {
        "id": "OK71cyfHlts8"
      }
    },
    {
      "cell_type": "code",
      "source": [
        "from sklearn.preprocessing import MaxAbsScaler,StandardScaler,MinMaxScaler,RobustScaler,PowerTransformer,QuantileTransformer\n",
        "\n",
        "scaler = RobustScaler().fit(X_train)\n",
        "X_train = scaler.transform(X_train)\n",
        "X_test = scaler.transform(X_test)  \n",
        "\n",
        "# minmax - accuracy: 0.8537\n",
        "# maxabs - accuracy: 0.8499\n",
        "# standard - accuracy: 0.8634\n",
        "# robust - accuracy: 0.8658\n",
        "# power - accuracy: 0.8643\n",
        "# quantile - accuracy: 0.8520"
      ],
      "metadata": {
        "id": "OXVZyhgJiIjo"
      },
      "execution_count": null,
      "outputs": []
    },
    {
      "cell_type": "markdown",
      "source": [
        "## Training Neural NetWork Classifier"
      ],
      "metadata": {
        "id": "HyiepeHCkErX"
      }
    },
    {
      "cell_type": "code",
      "execution_count": null,
      "metadata": {
        "colab": {
          "base_uri": "https://localhost:8080/"
        },
        "id": "4IgUjnYg_fvc",
        "outputId": "366ddc72-075c-47ac-8d06-06edab043790"
      },
      "outputs": [
        {
          "output_type": "stream",
          "name": "stdout",
          "text": [
            "Epoch 1/30\n",
            "795/795 [==============================] - 3s 2ms/step - loss: 0.3570 - accuracy: 0.8422 - val_loss: 0.3319 - val_accuracy: 0.8575\n",
            "Epoch 2/30\n",
            "795/795 [==============================] - 2s 2ms/step - loss: 0.3285 - accuracy: 0.8573 - val_loss: 0.3245 - val_accuracy: 0.8639\n",
            "Epoch 3/30\n",
            "795/795 [==============================] - 2s 2ms/step - loss: 0.3188 - accuracy: 0.8626 - val_loss: 0.3181 - val_accuracy: 0.8642\n",
            "Epoch 4/30\n",
            "795/795 [==============================] - 2s 2ms/step - loss: 0.3130 - accuracy: 0.8658 - val_loss: 0.3091 - val_accuracy: 0.8668\n",
            "Epoch 5/30\n",
            "795/795 [==============================] - 2s 2ms/step - loss: 0.3076 - accuracy: 0.8681 - val_loss: 0.3089 - val_accuracy: 0.8654\n",
            "Epoch 6/30\n",
            "795/795 [==============================] - 2s 2ms/step - loss: 0.3040 - accuracy: 0.8702 - val_loss: 0.3057 - val_accuracy: 0.8688\n",
            "Epoch 7/30\n",
            "795/795 [==============================] - 2s 2ms/step - loss: 0.3018 - accuracy: 0.8701 - val_loss: 0.3048 - val_accuracy: 0.8664\n",
            "Epoch 8/30\n",
            "795/795 [==============================] - 2s 2ms/step - loss: 0.3003 - accuracy: 0.8708 - val_loss: 0.3007 - val_accuracy: 0.8690\n",
            "Epoch 9/30\n",
            "795/795 [==============================] - 2s 2ms/step - loss: 0.2981 - accuracy: 0.8716 - val_loss: 0.3006 - val_accuracy: 0.8708\n",
            "Epoch 10/30\n",
            "795/795 [==============================] - 2s 2ms/step - loss: 0.2971 - accuracy: 0.8724 - val_loss: 0.2995 - val_accuracy: 0.8699\n",
            "Epoch 11/30\n",
            "795/795 [==============================] - 2s 3ms/step - loss: 0.2958 - accuracy: 0.8731 - val_loss: 0.2997 - val_accuracy: 0.8697\n",
            "Epoch 12/30\n",
            "795/795 [==============================] - 2s 3ms/step - loss: 0.2949 - accuracy: 0.8727 - val_loss: 0.2990 - val_accuracy: 0.8701\n",
            "Epoch 13/30\n",
            "795/795 [==============================] - 2s 2ms/step - loss: 0.2931 - accuracy: 0.8733 - val_loss: 0.2966 - val_accuracy: 0.8707\n",
            "Epoch 14/30\n",
            "795/795 [==============================] - 2s 2ms/step - loss: 0.2930 - accuracy: 0.8734 - val_loss: 0.2984 - val_accuracy: 0.8690\n",
            "Epoch 15/30\n",
            "795/795 [==============================] - 2s 2ms/step - loss: 0.2916 - accuracy: 0.8742 - val_loss: 0.2971 - val_accuracy: 0.8698\n",
            "Epoch 16/30\n",
            "795/795 [==============================] - 2s 2ms/step - loss: 0.2912 - accuracy: 0.8732 - val_loss: 0.2963 - val_accuracy: 0.8708\n",
            "Epoch 17/30\n",
            "795/795 [==============================] - 2s 2ms/step - loss: 0.2904 - accuracy: 0.8744 - val_loss: 0.2984 - val_accuracy: 0.8704\n",
            "Epoch 18/30\n",
            "795/795 [==============================] - 2s 2ms/step - loss: 0.2892 - accuracy: 0.8749 - val_loss: 0.2984 - val_accuracy: 0.8700\n",
            "Epoch 19/30\n",
            "795/795 [==============================] - 2s 2ms/step - loss: 0.2889 - accuracy: 0.8757 - val_loss: 0.2965 - val_accuracy: 0.8696\n",
            "Epoch 20/30\n",
            "795/795 [==============================] - 2s 2ms/step - loss: 0.2887 - accuracy: 0.8749 - val_loss: 0.2963 - val_accuracy: 0.8707\n",
            "Epoch 21/30\n",
            "795/795 [==============================] - 2s 2ms/step - loss: 0.2886 - accuracy: 0.8750 - val_loss: 0.2957 - val_accuracy: 0.8707\n",
            "Epoch 22/30\n",
            "795/795 [==============================] - 2s 2ms/step - loss: 0.2873 - accuracy: 0.8749 - val_loss: 0.2989 - val_accuracy: 0.8690\n",
            "Epoch 23/30\n",
            "795/795 [==============================] - 2s 2ms/step - loss: 0.2873 - accuracy: 0.8759 - val_loss: 0.2958 - val_accuracy: 0.8706\n",
            "Epoch 24/30\n",
            "795/795 [==============================] - 2s 2ms/step - loss: 0.2870 - accuracy: 0.8758 - val_loss: 0.2977 - val_accuracy: 0.8708\n",
            "Epoch 25/30\n",
            "795/795 [==============================] - 2s 2ms/step - loss: 0.2863 - accuracy: 0.8762 - val_loss: 0.2976 - val_accuracy: 0.8677\n",
            "Epoch 26/30\n",
            "795/795 [==============================] - 2s 2ms/step - loss: 0.2858 - accuracy: 0.8764 - val_loss: 0.2957 - val_accuracy: 0.8704\n",
            "Epoch 27/30\n",
            "795/795 [==============================] - 2s 2ms/step - loss: 0.2857 - accuracy: 0.8763 - val_loss: 0.2960 - val_accuracy: 0.8696\n",
            "Epoch 28/30\n",
            "795/795 [==============================] - 2s 2ms/step - loss: 0.2853 - accuracy: 0.8765 - val_loss: 0.2981 - val_accuracy: 0.8697\n",
            "Epoch 29/30\n",
            "795/795 [==============================] - 2s 2ms/step - loss: 0.2854 - accuracy: 0.8767 - val_loss: 0.2959 - val_accuracy: 0.8690\n",
            "Epoch 30/30\n",
            "795/795 [==============================] - 2s 2ms/step - loss: 0.2847 - accuracy: 0.8772 - val_loss: 0.2958 - val_accuracy: 0.8696\n",
            "497/497 [==============================] - 1s 1ms/step\n",
            "1987/1987 [==============================] - 2s 1ms/step\n",
            "Neural Network Max Accuracy :  0.8720659492794663\n"
          ]
        }
      ],
      "source": [
        "from sklearn.metrics import accuracy_score\n",
        "from keras.models import Sequential\n",
        "from keras.layers import Dense\n",
        "import keras.layers as layers\n",
        "import keras\n",
        "\n",
        "# Grid Search NN\n",
        "max_accuracy = 0.0\n",
        "best_model = None\n",
        "learning_rate = None\n",
        "batch_size = None\n",
        "epochs = None\n",
        "\n",
        "for i in {0.001,0.0001}:\n",
        "  for j in {64,32}:\n",
        "    for k in {30}:\n",
        "      \n",
        "      model = Sequential()\n",
        "      model.add(layers.InputLayer((X_train.shape[1],)))\n",
        "      model.add(Dense(32,activation='relu'))\n",
        "      model.add(Dense(64,activation='relu'))\n",
        "      model.add(Dense(1,activation='sigmoid'))\n",
        "\n",
        "      optimizer = keras.optimizers.Adam(learning_rate = i)\n",
        "      model.compile(loss='binary_crossentropy', optimizer=optimizer, metrics=['accuracy'])\n",
        "      history = model.fit(X_train,y_train,batch_size=j,epochs=k,validation_split=0.2)\n",
        "      p_pred = model.predict(X_test)\n",
        "      p_pred = p_pred.flatten()\n",
        "\n",
        "      # extract the predicted class labels\n",
        "      y_pred = np.where(p_pred > 0.5, 1, 0)\n",
        "      \n",
        "      current_accuracy = accuracy_score(y_test,y_pred)\n",
        "      if(current_accuracy > max_accuracy):\n",
        "        best_model = model\n",
        "        max_accuracy = current_accuracy\n",
        "        learning_rate = i\n",
        "        batch_size = j\n",
        "        epochs = k\n",
        "\n",
        "print(\"Neural Network Test Maximum Accuracy = \"+ str(max_accuracy) + \" , obtained for Learning Rate = \"+str(learning_rate) + \" and batch size = \"+str(batch_size) + \" and epochs = \" + str(epochs))\n",
        "\n",
        "\n",
        "neuralNetworkModel = best_model"
      ]
    },
    {
      "cell_type": "code",
      "execution_count": null,
      "metadata": {
        "id": "cVzyO7C7HTdT",
        "colab": {
          "base_uri": "https://localhost:8080/",
          "height": 791
        },
        "outputId": "cd616366-99a9-4fa4-f74a-8ac300d239ad"
      },
      "outputs": [
        {
          "output_type": "display_data",
          "data": {
            "text/plain": [
              "<IPython.core.display.Javascript object>"
            ],
            "application/javascript": [
              "\n",
              "    async function download(id, filename, size) {\n",
              "      if (!google.colab.kernel.accessAllowed) {\n",
              "        return;\n",
              "      }\n",
              "      const div = document.createElement('div');\n",
              "      const label = document.createElement('label');\n",
              "      label.textContent = `Downloading \"${filename}\": `;\n",
              "      div.appendChild(label);\n",
              "      const progress = document.createElement('progress');\n",
              "      progress.max = size;\n",
              "      div.appendChild(progress);\n",
              "      document.body.appendChild(div);\n",
              "\n",
              "      const buffers = [];\n",
              "      let downloaded = 0;\n",
              "\n",
              "      const channel = await google.colab.kernel.comms.open(id);\n",
              "      // Send a message to notify the kernel that we're ready.\n",
              "      channel.send({})\n",
              "\n",
              "      for await (const message of channel.messages) {\n",
              "        // Send a message to notify the kernel that we're ready.\n",
              "        channel.send({})\n",
              "        if (message.buffers) {\n",
              "          for (const buffer of message.buffers) {\n",
              "            buffers.push(buffer);\n",
              "            downloaded += buffer.byteLength;\n",
              "            progress.value = downloaded;\n",
              "          }\n",
              "        }\n",
              "      }\n",
              "      const blob = new Blob(buffers, {type: 'application/binary'});\n",
              "      const a = document.createElement('a');\n",
              "      a.href = window.URL.createObjectURL(blob);\n",
              "      a.download = filename;\n",
              "      div.appendChild(a);\n",
              "      a.click();\n",
              "      div.remove();\n",
              "    }\n",
              "  "
            ]
          },
          "metadata": {}
        },
        {
          "output_type": "display_data",
          "data": {
            "text/plain": [
              "<IPython.core.display.Javascript object>"
            ],
            "application/javascript": [
              "download(\"download_fc0a6bce-3b80-4fd8-b8c8-7071d4755e79\", \"nn1.pdf\", 12494)"
            ]
          },
          "metadata": {}
        },
        {
          "output_type": "display_data",
          "data": {
            "text/plain": [
              "<IPython.core.display.Javascript object>"
            ],
            "application/javascript": [
              "\n",
              "    async function download(id, filename, size) {\n",
              "      if (!google.colab.kernel.accessAllowed) {\n",
              "        return;\n",
              "      }\n",
              "      const div = document.createElement('div');\n",
              "      const label = document.createElement('label');\n",
              "      label.textContent = `Downloading \"${filename}\": `;\n",
              "      div.appendChild(label);\n",
              "      const progress = document.createElement('progress');\n",
              "      progress.max = size;\n",
              "      div.appendChild(progress);\n",
              "      document.body.appendChild(div);\n",
              "\n",
              "      const buffers = [];\n",
              "      let downloaded = 0;\n",
              "\n",
              "      const channel = await google.colab.kernel.comms.open(id);\n",
              "      // Send a message to notify the kernel that we're ready.\n",
              "      channel.send({})\n",
              "\n",
              "      for await (const message of channel.messages) {\n",
              "        // Send a message to notify the kernel that we're ready.\n",
              "        channel.send({})\n",
              "        if (message.buffers) {\n",
              "          for (const buffer of message.buffers) {\n",
              "            buffers.push(buffer);\n",
              "            downloaded += buffer.byteLength;\n",
              "            progress.value = downloaded;\n",
              "          }\n",
              "        }\n",
              "      }\n",
              "      const blob = new Blob(buffers, {type: 'application/binary'});\n",
              "      const a = document.createElement('a');\n",
              "      a.href = window.URL.createObjectURL(blob);\n",
              "      a.download = filename;\n",
              "      div.appendChild(a);\n",
              "      a.click();\n",
              "      div.remove();\n",
              "    }\n",
              "  "
            ]
          },
          "metadata": {}
        },
        {
          "output_type": "display_data",
          "data": {
            "text/plain": [
              "<IPython.core.display.Javascript object>"
            ],
            "application/javascript": [
              "download(\"download_18a8e9c6-a670-47c5-86ae-839aadb2ed7e\", \"nn2.pdf\", 11766)"
            ]
          },
          "metadata": {}
        },
        {
          "output_type": "display_data",
          "data": {
            "text/plain": [
              "<Figure size 720x432 with 1 Axes>"
            ],
            "image/png": "[encoded data removed]"
          },
          "metadata": {
            "needs_background": "light"
          }
        },
        {
          "output_type": "display_data",
          "data": {
            "text/plain": [
              "<Figure size 720x432 with 1 Axes>"
            ],
            "image/png": "[encoded data removed]"
          },
          "metadata": {
            "needs_background": "light"
          }
        }
      ],
      "source": [
        "import matplotlib.pyplot as plt\n",
        "fig = plt.figure(figsize=(10, 6))\n",
        "\n",
        "# summarize history for accuracy\n",
        "plt.plot(history.history['accuracy'])\n",
        "plt.plot(history.history['val_accuracy'])\n",
        "plt.title('model accuracy')\n",
        "plt.ylabel('accuracy')\n",
        "plt.xlabel('epoch')\n",
        "plt.legend(['train', 'test'], loc='upper left')\n",
        "from google.colab import files\n",
        "plt.savefig(\"nn1.pdf\", bbox_inches = 'tight')\n",
        "files.download(\"nn1.pdf\")\n",
        "\n",
        "fig = plt.figure(figsize=(10, 6))\n",
        "# summarize history for loss\n",
        "plt.plot(history.history['loss'])\n",
        "plt.plot(history.history['val_loss'])\n",
        "plt.title('model loss')\n",
        "plt.ylabel('loss')\n",
        "plt.xlabel('epoch')\n",
        "plt.legend(['train', 'test'], loc='upper left')\n",
        "\n",
        "from google.colab import files\n",
        "plt.savefig(\"nn2.pdf\", bbox_inches = 'tight')\n",
        "files.download(\"nn2.pdf\")"
      ]
    },
    {
      "cell_type": "markdown",
      "source": [
        "## Evaluting Model Performance"
      ],
      "metadata": {
        "id": "jCQwOTcxkvdr"
      }
    },
    {
      "cell_type": "code",
      "source": [
        "y_val = neuralNetworkModel.predict(X_train)\n",
        "\n",
        "# extract the predicted class labels\n",
        "y_val = np.where(y_val > 0.5, 1, 0)\n",
        "y_pred = neuralNetworkModel.predict(X_test)\n",
        "\n",
        "y_pred = y_pred.flatten()\n",
        "\n",
        "# extract the predicted class labels\n",
        "y_pred = np.where(p_pred > 0.5, 1, 0)\n",
        "\n",
        "print(\"~~~~~~~  TRAIN ACCURACY  ~~~~~~~\")\n",
        "print(classification_report(y_train, y_val, digits=6))\n",
        "\n",
        "print(\"~~~~~~~  TEST ACCURACY  ~~~~~~~\")\n",
        "print(classification_report(y_test, y_pred, digits=6))"
      ],
      "metadata": {
        "colab": {
          "base_uri": "https://localhost:8080/"
        },
        "id": "-o_Lg-G4RS-7",
        "outputId": "0b32e905-ce2b-4f81-e02e-e08cbcdcd960"
      },
      "execution_count": null,
      "outputs": [
        {
          "output_type": "stream",
          "name": "stdout",
          "text": [
            "~~~  TRAIN ACCURACY  ~~~\n",
            "              precision    recall  f1-score   support\n",
            "\n",
            "         0.0   0.820580  0.966390  0.887536     31836\n",
            "         1.0   0.958954  0.787959  0.865087     31725\n",
            "\n",
            "    accuracy                       0.877330     63561\n",
            "   macro avg   0.889767  0.877175  0.876312     63561\n",
            "weighted avg   0.889646  0.877330  0.876331     63561\n",
            "\n",
            "~~~  TEST ACCURACY  ~~~\n",
            "              precision    recall  f1-score   support\n",
            "\n",
            "         0.0   0.811698  0.962104  0.880524      7890\n",
            "         1.0   0.954274  0.779903  0.858322      8001\n",
            "\n",
            "    accuracy                       0.870367     15891\n",
            "   macro avg   0.882986  0.871003  0.869423     15891\n",
            "weighted avg   0.883484  0.870367  0.869346     15891\n",
            "\n"
          ]
        }
      ]
    },
    {
      "cell_type": "markdown",
      "source": [
        "# Decision Trees"
      ],
      "metadata": {
        "id": "TF5hcxv9Iwx4"
      }
    },
    {
      "cell_type": "markdown",
      "source": [
        "## Preprocessing"
      ],
      "metadata": {
        "id": "KD0IA_roI4mS"
      }
    },
    {
      "cell_type": "code",
      "source": [
        "y = data.Diabetes_binary\n",
        "X = data.drop('Diabetes_binary',axis = 1)\n",
        "\n",
        "#One Hot Encoding of categorical data\n",
        "continous_var_list = ['BMI','MentHlth','PhysHlth']\n",
        "\n",
        "categorical_var  = []\n",
        "for var in X.columns:\n",
        "  if var not in continous_var_list:\n",
        "    categorical_var.append(var)\n",
        "print(categorical_var)\n",
        "X = pd.get_dummies(X,columns=categorical_var)\n",
        "\n",
        "#Undersampling to remove the skew of that dataset\n",
        "from imblearn.under_sampling import NearMiss\n",
        "nm = NearMiss(version = 1 , n_neighbors = 10)\n",
        "\n",
        "# from imblearn.over_sampling import RandomOverSampler, SMOTE, ADASYN\n",
        "# # nm = SMOTE()  # 0.872103\n",
        "# nm = ADASYN()\n",
        "\n",
        "x_sm,y_sm= nm.fit_resample(X,y)\n",
        "X = x_sm\n",
        "y = y_sm"
      ],
      "metadata": {
        "id": "fXy3MUoEI7eq",
        "colab": {
          "base_uri": "https://localhost:8080/"
        },
        "outputId": "2204b2f5-3e00-4318-8d8b-e27800f578e5"
      },
      "execution_count": null,
      "outputs": [
        {
          "output_type": "stream",
          "name": "stdout",
          "text": [
            "['HighBP', 'HighChol', 'CholCheck', 'Smoker', 'Stroke', 'HeartDiseaseorAttack', 'PhysActivity', 'HvyAlcoholConsump', 'GenHlth', 'DiffWalk', 'Age', 'Education', 'Income']\n"
          ]
        }
      ]
    },
    {
      "cell_type": "markdown",
      "source": [
        "##Scaling the data using MinMax Scaler"
      ],
      "metadata": {
        "id": "w-J2tnXll0Na"
      }
    },
    {
      "cell_type": "code",
      "source": [
        "X = np.asarray(X)\n",
        "y = np.asarray(y)\n",
        "X_train,X_test,y_train,y_test = train_test_split(X,y,random_state=42,train_size=0.7)\n",
        "\n",
        "scaler = MinMaxScaler().fit(X_train)\n",
        "X_train = scaler.transform(X_train)\n",
        "X_test = scaler.transform(X_test)  "
      ],
      "metadata": {
        "id": "OhZUzbEemLdw"
      },
      "execution_count": null,
      "outputs": []
    },
    {
      "cell_type": "markdown",
      "source": [
        "##Training Decision Trees Classifier"
      ],
      "metadata": {
        "id": "IjVej7tkmukc"
      }
    },
    {
      "cell_type": "code",
      "source": [
        "from sklearn import tree\n",
        "\n",
        "def deci(x_train, y_train, x_test, y_test, sample_weight=None, dep=1):\n",
        "  finalModel = None\n",
        "  maxAcc = 0\n",
        "  no_of_features = x_train.shape[1]\n",
        "  for depth in range(1,int(no_of_features*dep),1):\n",
        "    model = tree.DecisionTreeClassifier(max_depth=depth, criterion=\"gini\")\n",
        "    if sample_weight == None:\n",
        "      model.fit(x_train, y_train)\n",
        "    else:\n",
        "      model.fit(x_train, y_train, sample_weight=sample_weight)\n",
        "    scoreTrain = model.score(x_train,y_train)\n",
        "    scoreTest = model.score(x_test, y_test)\n",
        "    if(scoreTrain - scoreTest <= 0.02 and scoreTrain>maxAcc):\n",
        "      finalModel = model\n",
        "      maxAcc = scoreTrain\n",
        "  return finalModel"
      ],
      "metadata": {
        "id": "oj7pp16smt3J"
      },
      "execution_count": null,
      "outputs": []
    },
    {
      "cell_type": "code",
      "source": [
        "decision_model = deci(X_train, y_train, X_test, y_test)"
      ],
      "metadata": {
        "id": "Qh01GY-8nGrj"
      },
      "execution_count": null,
      "outputs": []
    },
    {
      "cell_type": "markdown",
      "source": [
        "## Evaluating Model Performance"
      ],
      "metadata": {
        "id": "2MJJXHhfxP6U"
      }
    },
    {
      "cell_type": "code",
      "source": [
        "y_val = decision_model.predict(X_train)\n",
        "y_pred = decision_model.predict(X_test)\n",
        "\n",
        "print(\"~~~~~~~  TRAIN ACCURACY  ~~~~~~~\")\n",
        "print(classification_report(y_train, y_val, digits=6))\n",
        "\n",
        "print(\"~~~~~~~  TEST ACCURACY  ~~~~~~~\")\n",
        "print(classification_report(y_test, y_pred, digits=6))"
      ],
      "metadata": {
        "colab": {
          "base_uri": "https://localhost:8080/"
        },
        "id": "cRAgRiEbxZtb",
        "outputId": "2a6291f4-1cd5-4154-e8a4-598e62c1e282"
      },
      "execution_count": null,
      "outputs": [
        {
          "output_type": "stream",
          "name": "stdout",
          "text": [
            "~~~~~~~  TRAIN ACCURACY  ~~~~~~~\n",
            "              precision    recall  f1-score   support\n",
            "\n",
            "         0.0   0.771801  0.975470  0.861766     27110\n",
            "         1.0   0.966863  0.712769  0.820596     27222\n",
            "\n",
            "    accuracy                       0.843849     54332\n",
            "   macro avg   0.869332  0.844120  0.841181     54332\n",
            "weighted avg   0.869533  0.843849  0.841139     54332\n",
            "\n",
            "~~~~~~~  TEST ACCURACY  ~~~~~~~\n",
            "              precision    recall  f1-score   support\n",
            "\n",
            "         0.0   0.761753  0.959826  0.849395     11699\n",
            "         1.0   0.944997  0.696902  0.802205     11587\n",
            "\n",
            "    accuracy                       0.828996     23286\n",
            "   macro avg   0.853375  0.828364  0.825800     23286\n",
            "weighted avg   0.852934  0.828996  0.825914     23286\n",
            "\n"
          ]
        }
      ]
    },
    {
      "cell_type": "markdown",
      "source": [
        "# Random Forest"
      ],
      "metadata": {
        "id": "AfwnuTg6xz_R"
      }
    },
    {
      "cell_type": "markdown",
      "source": [
        "##Preprocessing"
      ],
      "metadata": {
        "id": "SwP0RJULx9PH"
      }
    },
    {
      "cell_type": "code",
      "source": [
        "y = data.Diabetes_binary\n",
        "X = data.drop('Diabetes_binary',axis = 1)\n",
        "\n",
        "continous_var_list = ['BMI','MentHlth','PhysHlth']\n",
        "\n",
        "categorical_var  = []\n",
        "for var in X.columns:\n",
        "  if var not in continous_var_list:\n",
        "    categorical_var.append(var)\n",
        "print(categorical_var)\n",
        "X = pd.get_dummies(X,columns=categorical_var)\n",
        "\n",
        "from imblearn.under_sampling import NearMiss\n",
        "nm = NearMiss(version = 1 , n_neighbors = 10)\n",
        "\n",
        "# from imblearn.over_sampling import RandomOverSampler, SMOTE, ADASYN\n",
        "# # nm = SMOTE()  # 0.872103\n",
        "# nm = ADASYN()\n",
        "\n",
        "x_sm,y_sm= nm.fit_resample(X,y)\n",
        "X = x_sm\n",
        "y = y_sm"
      ],
      "metadata": {
        "colab": {
          "base_uri": "https://localhost:8080/"
        },
        "id": "eWVYuK4hyALf",
        "outputId": "b28f60d8-dabc-401f-b861-4687354e1436"
      },
      "execution_count": null,
      "outputs": [
        {
          "output_type": "stream",
          "name": "stdout",
          "text": [
            "['HighBP', 'HighChol', 'CholCheck', 'Smoker', 'Stroke', 'HeartDiseaseorAttack', 'PhysActivity', 'HvyAlcoholConsump', 'GenHlth', 'DiffWalk', 'Age', 'Education', 'Income']\n"
          ]
        }
      ]
    },
    {
      "cell_type": "markdown",
      "source": [
        "## Scaling the data with MinMax Scaler"
      ],
      "metadata": {
        "id": "pxM6GJY60b-r"
      }
    },
    {
      "cell_type": "code",
      "source": [
        "X = np.asarray(X)\n",
        "y = np.asarray(y)\n",
        "X_train,X_test,y_train,y_test = train_test_split(X,y,random_state=42,train_size=0.7)\n",
        "\n",
        "# scaler = MaxAbsScaler().fit(X_train)\n",
        "scaler = MinMaxScaler().fit(X_train)\n",
        "X_train = scaler.transform(X_train)\n",
        "X_test = scaler.transform(X_test)  "
      ],
      "metadata": {
        "id": "go1Zbv2N0efK"
      },
      "execution_count": null,
      "outputs": []
    },
    {
      "cell_type": "markdown",
      "source": [
        "## Training Random Forest Classifier"
      ],
      "metadata": {
        "id": "9lVhxtWa0mE3"
      }
    },
    {
      "cell_type": "code",
      "source": [
        "def deci(x_train, y_train, x_test, y_test, sample_weight=None, dep=1):\n",
        "  finalModel = None\n",
        "  maxAcc = 0\n",
        "  no_of_features = x_train.shape[1]\n",
        "  for depth in range(1,int(no_of_features*dep),1):\n",
        "    model = tree.DecisionTreeClassifier(max_depth=depth, criterion=\"gini\")\n",
        "    if sample_weight == None:\n",
        "      model.fit(x_train, y_train)\n",
        "    else:\n",
        "      model.fit(x_train, y_train, sample_weight=sample_weight)\n",
        "    scoreTrain = model.score(x_train,y_train)\n",
        "    scoreTest = model.score(x_test, y_test)\n",
        "    if(scoreTrain - scoreTest <= 0.02 and scoreTrain>maxAcc):\n",
        "      finalModel = model\n",
        "      maxAcc = scoreTrain\n",
        "  return finalModel"
      ],
      "metadata": {
        "id": "vE946iEx0tyz"
      },
      "execution_count": null,
      "outputs": []
    },
    {
      "cell_type": "code",
      "source": [
        "def givePredict(x, aggModels, featureDel):\n",
        "  predictedY = 0\n",
        "\n",
        "  for j in range(len(aggModels)):\n",
        "    model=aggModels[j]\n",
        "    new_x = np.delete(x, featureDel[j], 1)\n",
        "    p = int(model.predict(new_x)[0])\n",
        "    if p==0:\n",
        "        p=-1\n",
        "    predictedY+=p\n",
        "  if(predictedY>=0):\n",
        "    return 1\n",
        "  else:\n",
        "    return 0"
      ],
      "metadata": {
        "id": "Q8F-n74A0w1U"
      },
      "execution_count": null,
      "outputs": []
    },
    {
      "cell_type": "code",
      "source": [
        "def randomForestPredict(x,aggModels,featureDel):\n",
        "  predictions = list()\n",
        "  for i in range(len(x)):\n",
        "    inpA = np.array([x[i]])\n",
        "    predictedY = 0\n",
        "    \n",
        "    predictedY = givePredict(inpA, aggModels, featureDel)\n",
        "    \n",
        "    predictions.append(predictedY)\n",
        "\n",
        "  return predictions"
      ],
      "metadata": {
        "id": "RLqEWH4S070K"
      },
      "execution_count": null,
      "outputs": []
    },
    {
      "cell_type": "code",
      "source": [
        "def randomForest(X_train, y_train, X_test, y_test, no_of_trees=50):\n",
        "  import random\n",
        "  x,y = X_train, y_train\n",
        "  aggModels = list()\n",
        "  featureDel = list()\n",
        "  for i in range(no_of_trees):\n",
        "    n = len(x)\n",
        "    newX, newY = list(), list()\n",
        "    \n",
        "    for j in range(n):\n",
        "      index = random.randint(0,n-1)\n",
        "      newX.append(x[index])\n",
        "      newY.append(y[index])\n",
        "    newX, newY = np.array(newX), np.array(newY)\n",
        "\n",
        "    cols = newX.shape[1]\n",
        "    d = random.randint(1,10)*0.1\n",
        "    todel = random.sample(range(0, cols-1), int(cols*(1-d)))\n",
        "    newX = np.delete(newX, todel, 1)\n",
        "\n",
        "    newXtrain, newXtest, newYtrain, newYtest = train_test_split(newX,newY,random_state=42,train_size=0.8)\n",
        "    sample_weight = [1/len(newXtrain) for i in range(len(newXtrain))]\n",
        "    m = deci(newXtrain, newYtrain, newXtest, newYtest, sample_weight, 0.2)\n",
        "    if m is not None:\n",
        "      aggModels.append(m)\n",
        "      featureDel.append(todel)\n",
        "\n",
        "  return aggModels, featureDel"
      ],
      "metadata": {
        "id": "9VCD4Pfi1Fql"
      },
      "execution_count": null,
      "outputs": []
    },
    {
      "cell_type": "code",
      "source": [
        "aggModels, featureDel = randomForest(X_train, y_train, X_test, y_test, 100)"
      ],
      "metadata": {
        "id": "a2T_L6IF1GU-"
      },
      "execution_count": null,
      "outputs": []
    },
    {
      "cell_type": "markdown",
      "source": [
        "## Evaluating Model Performance"
      ],
      "metadata": {
        "id": "w70gKE4F2FtA"
      }
    },
    {
      "cell_type": "code",
      "source": [
        "from sklearn.metrics import classification_report\n",
        "y_val = randomForestPredict(X_train,aggModels,featureDel)\n",
        "y_pred = randomForestPredict(X_test,aggModels,featureDel)\n",
        "\n",
        "print(\"~~~  TRAIN ACCURACY  ~~~\")\n",
        "print(classification_report(y_train, y_val, digits=6))\n",
        "\n",
        "print(\"~~~  TEST ACCURACY  ~~~\")\n",
        "print(classification_report(y_test, y_pred, digits=6))"
      ],
      "metadata": {
        "colab": {
          "base_uri": "https://localhost:8080/"
        },
        "id": "sTzvsVrk5UwV",
        "outputId": "30cdc3ee-8615-4f5a-ed14-5aca0495ccc0"
      },
      "execution_count": null,
      "outputs": [
        {
          "output_type": "stream",
          "name": "stdout",
          "text": [
            "~~~  TRAIN ACCURACY  ~~~\n",
            "              precision    recall  f1-score   support\n",
            "\n",
            "         0.0   0.769459  0.971795  0.858871     27761\n",
            "         1.0   0.961907  0.709819  0.816856     27855\n",
            "\n",
            "    accuracy                       0.840585     55616\n",
            "   macro avg   0.865683  0.840807  0.837864     55616\n",
            "weighted avg   0.865846  0.840585  0.837828     55616\n",
            "\n",
            "~~~  TEST ACCURACY  ~~~\n",
            "              precision    recall  f1-score   support\n",
            "\n",
            "         0.0   0.767059  0.969578  0.856510     11965\n",
            "         1.0   0.958219  0.703226  0.811155     11871\n",
            "\n",
            "    accuracy                       0.836927     23836\n",
            "   macro avg   0.862639  0.836402  0.833832     23836\n",
            "weighted avg   0.862262  0.836927  0.833922     23836\n",
            "\n"
          ]
        }
      ]
    },
    {
      "cell_type": "markdown",
      "source": [
        "#Support Vector Machines"
      ],
      "metadata": {
        "id": "QVe9AS824J95"
      }
    },
    {
      "cell_type": "markdown",
      "source": [
        "## Preprocessing"
      ],
      "metadata": {
        "id": "VxAjo1sW9v30"
      }
    },
    {
      "cell_type": "code",
      "source": [
        "Y = data['Diabetes_binary']\n",
        "X = data.drop(columns=['Diabetes_binary'])\n",
        "\n",
        "# step one hot coding\n",
        "\n",
        "#for FIRST data set\n",
        "#continous_var_list = ['age', 'BMI' 'trestbps','chol','thalach'\t'oldpeak']\n",
        "continous_var_list = ['BMI','MentHlth','PhysHlth', 'Age']\n",
        "categorical_var  = []\n",
        "for var in X.columns:\n",
        "  if var not in continous_var_list:\n",
        "    categorical_var.append(var)\n",
        "\n",
        "\n",
        "print(categorical_var)\n",
        "X = pd.get_dummies(X,columns=categorical_var)\n",
        "\n",
        "abs_scaler = MaxAbsScaler()\n",
        "abs_scaler.fit(X)\n",
        "scaled_data = abs_scaler.transform(X)\n",
        "df_scaled = pd.DataFrame(scaled_data, columns = X.columns)\n",
        "\n",
        "from imblearn.under_sampling import NearMiss\n",
        "nm = NearMiss(version = 1, n_neighbors=10)\n",
        "X_sm, Y_sm = nm.fit_resample(X,Y)\n",
        "X,Y = X_sm, Y_sm"
      ],
      "metadata": {
        "colab": {
          "base_uri": "https://localhost:8080/"
        },
        "id": "mIs9Hv3R9z6b",
        "outputId": "6a56826a-4306-414a-9c95-07ef8588556e"
      },
      "execution_count": null,
      "outputs": [
        {
          "output_type": "stream",
          "name": "stdout",
          "text": [
            "['HighBP', 'HighChol', 'CholCheck', 'Smoker', 'Stroke', 'HeartDiseaseorAttack', 'PhysActivity', 'HvyAlcoholConsump', 'GenHlth', 'DiffWalk', 'Education', 'Income']\n"
          ]
        }
      ]
    },
    {
      "cell_type": "markdown",
      "source": [
        "## Train Test Split"
      ],
      "metadata": {
        "id": "4LiDFZF6BOmu"
      }
    },
    {
      "cell_type": "code",
      "source": [
        "X_train, X_test, Y_train, Y_test = train_test_split(X,Y, train_size=0.80)\n",
        "from sklearn.svm import SVC\n",
        "from sklearn.metrics import accuracy_score\n",
        "\n"
      ],
      "metadata": {
        "id": "3AZS-uDM_W1m"
      },
      "execution_count": null,
      "outputs": []
    },
    {
      "cell_type": "markdown",
      "source": [
        "## Training SVM Classifier"
      ],
      "metadata": {
        "id": "vUV7P-VBBQrg"
      }
    },
    {
      "cell_type": "code",
      "source": [
        "def SVM(X_train, Y_train, X_test, Y_test, kernel = 'rbf', type = 2):\n",
        "\n",
        "  if type==1:\n",
        "    parameters = {}\n",
        "    #Linear\n",
        "    if kernel=='linear':\n",
        "      #parameters = {'C':[0.3, 0.6, 0.9, 3, 6, 9, 48, 99]}\n",
        "      parameters = {'C':[0.1, 0.5, 1, 5, 10, 50, 100]}\n",
        "      svc = SVC(kernel = 'linear')\n",
        "    #Polynomial\n",
        "    elif kernel=='poly':\n",
        "      parameters = {'C':[0.1, 1, 3], 'degree':[2, 3, 4], 'gamma': [0.1, 1]}\n",
        "      svc = SVC(kernel = 'poly')\n",
        "    #RBF\n",
        "    elif kernel=='rbf':\n",
        "      parameters = {'C':[0.1, 0.5, 1, 5, 10, 50, 100], 'gamma': [0.1, 0.5, 1, 3, 6, 9]}\n",
        "      # other c value [0.1,0.3,1, 0.6, 0.9, 3, 6, 9, 48, 99]\n",
        "      svc = SVC(kernel = 'rbf')\n",
        "    \n",
        "    elif kernel =='NuSVC':\n",
        "      svc = NuSVC()\n",
        "    #best tol 0.1\n",
        "    elif kernel=='rbf_best':\n",
        "      parameters = {'C':[20], 'gamma': [1]}\n",
        "      svc = SVC(kernel = 'rbf')\n",
        "    else:\n",
        "      print(\"Invalid Kernel Value\")\n",
        "\n",
        "    clf = GridSearchCV(svc, parameters, cv=5)\n",
        "    clf.fit(X_train, Y_train)\n",
        "    Y_train_pred = clf.predict(X_train)\n",
        "    Y_test_pred = clf.predict(X_test)\n",
        "    test_score = accuracy_score(Y_test_pred, Y_test)\n",
        "    train_score = accuracy_score(Y_train_pred, Y_train)\n",
        "    print(\"Train Score: \", train_score)\n",
        "    print(\"Test score: \", test_score)\n",
        "\n",
        "  elif (type ==2):\n",
        "    clf = SVC(kernel='rbf', C=20, gamma=1)\n",
        "    clf.fit(X_train, Y_train)\n",
        "    Y_pred = clf.predict(X_test)\n",
        "    accuracy_test = accuracy_score(Y_test, Y_pred)\n",
        "    accuracy_train = accuracy_score(Y_train, clf.predict(X_train))\n",
        "    return clf\n",
        "\n",
        "  else:\n",
        "    kernels = ['linear', 'rbf', 'poly']\n",
        "    gammas = [0.1, 1, 10, 100]\n",
        "    C = [0.1, 1, 10, 50, 100, 1000]\n",
        "    degrees = [1]\n",
        "    for kernel in kernels:  \n",
        "      for c in C:\n",
        "        if kernel == 'linear':\n",
        "          gammas = [1]\n",
        "        for gamma in gammas:\n",
        "          if kernel == 'poly':\n",
        "            degrees = [0, 1, 2, 3, 4, 5, 6]\n",
        "          for degree in degrees:      \n",
        "            clf = SVC(kernel=kernel, C=c,degree=degree)\n",
        "            clf.fit(X_train, Y_train)\n",
        "            Y_pred = clf.predict(X_test)\n",
        "            accuracy_test = accuracy_score(Y_test, Y_pred)\n",
        "            accuracy_train = accuracy_score(Y_train, clf.predict(X_train))\n",
        "            print(\"Kernel : {}, C : {}, gammas : {}, degrees :{} accuracy_train= {}, accuracy_test {}\".format(kernel,c,gamma,degree,accuracy_train,accuracy_test))\n",
        "          # degree is required only for polynomial\n",
        "          degrees = [1]\n",
        "          gammas = [0.1, 1, 10, 100]"
      ],
      "metadata": {
        "id": "3wzMN-pWBOHs"
      },
      "execution_count": null,
      "outputs": []
    },
    {
      "cell_type": "code",
      "source": [
        "svm_model = SVM(X_train, Y_train, X_test, Y_test)"
      ],
      "metadata": {
        "id": "QMrBAZJvCy8A"
      },
      "execution_count": null,
      "outputs": []
    },
    {
      "cell_type": "markdown",
      "source": [
        "## Evaluating Model Performance"
      ],
      "metadata": {
        "id": "iikFVEp3Er0o"
      }
    },
    {
      "cell_type": "code",
      "source": [
        "y_val = svm_model.predict(X_train)\n",
        "y_pred = svm_model.predict(X_test)\n",
        "\n",
        "\n",
        "print(\"~~~  TRAIN ACCURACY  ~~~\")\n",
        "print(classification_report(Y_train, y_val, digits=6))\n",
        "\n",
        "print(\"~~~  TEST ACCURACY  ~~~\")\n",
        "print(classification_report(Y_test, y_pred, digits=6))"
      ],
      "metadata": {
        "id": "tpJ-8h9gSK8F",
        "colab": {
          "base_uri": "https://localhost:8080/"
        },
        "outputId": "f49a2112-8f34-443f-a4b1-fb645e9401ff"
      },
      "execution_count": null,
      "outputs": [
        {
          "output_type": "stream",
          "name": "stdout",
          "text": [
            "~~~  TRAIN ACCURACY  ~~~\n",
            "              precision    recall  f1-score   support\n",
            "\n",
            "         0.0   0.858848  0.990820  0.920126     31810\n",
            "         1.0   0.989130  0.836856  0.906643     31751\n",
            "\n",
            "    accuracy                       0.913909     63561\n",
            "   macro avg   0.923989  0.913838  0.913385     63561\n",
            "weighted avg   0.923928  0.913909  0.913391     63561\n",
            "\n",
            "~~~  TEST ACCURACY  ~~~\n",
            "              precision    recall  f1-score   support\n",
            "\n",
            "         0.0   0.841710  0.977388  0.904489      7916\n",
            "         1.0   0.973280  0.817555  0.888647      7975\n",
            "\n",
            "    accuracy                       0.897175     15891\n",
            "   macro avg   0.907495  0.897471  0.896568     15891\n",
            "weighted avg   0.907739  0.897175  0.896538     15891\n",
            "\n"
          ]
        }
      ]
    },
    {
      "cell_type": "code",
      "source": [
        "y_val = svm_model.predict(X_train)\n",
        "y_pred = svm_model.predict(X_test)\n",
        "\n",
        "print(\"~~~~~~~  TRAIN ACCURACY  ~~~~~~~\")\n",
        "print(classification_report(y_train, y_val, digits=6))\n",
        "\n",
        "print(\"~~~~~~~  TEST ACCURACY  ~~~~~~~\")\n",
        "print(classification_report(y_test, y_pred, digits=6))"
      ],
      "metadata": {
        "id": "j8vjXomCBVg3"
      },
      "execution_count": null,
      "outputs": []
    },
    {
      "cell_type": "markdown",
      "source": [
        "# Boosting with Models of Same Class"
      ],
      "metadata": {
        "id": "U9NtAQziZCRj"
      }
    },
    {
      "cell_type": "markdown",
      "source": [
        "## Preprocessing"
      ],
      "metadata": {
        "id": "U-RqDQJJZJuD"
      }
    },
    {
      "cell_type": "code",
      "source": [
        "data = pd.read_csv(\"https://raw.githubusercontent.com/bs-cse-iitb/FML_Project/main/diabetes_full.csv\")\n",
        "data = data.drop_duplicates()"
      ],
      "metadata": {
        "id": "a40DUhz4TRV9"
      },
      "execution_count": null,
      "outputs": []
    },
    {
      "cell_type": "code",
      "source": [
        "data['Diabetes_012'] = np.where(data['Diabetes_012'] == 0.0,0.0,1.0)\n",
        "data.rename(columns={'Diabetes_012':'Diabetes_binary'},inplace=True)"
      ],
      "metadata": {
        "id": "Rqv3fBBMTTqh"
      },
      "execution_count": null,
      "outputs": []
    },
    {
      "cell_type": "code",
      "source": [
        "y = data.Diabetes_binary\n",
        "X = data.drop('Diabetes_binary',axis = 1)\n"
      ],
      "metadata": {
        "id": "K_ukFpFNTYYa"
      },
      "execution_count": null,
      "outputs": []
    },
    {
      "cell_type": "code",
      "source": [
        "continous_var_list = ['BMI','MentHlth','PhysHlth']\n",
        "\n",
        "categorical_var  = []\n",
        "for var in X.columns:\n",
        "  if var not in continous_var_list:\n",
        "    categorical_var.append(var)\n",
        "print(categorical_var)\n",
        "X = pd.get_dummies(X,columns=categorical_var)"
      ],
      "metadata": {
        "colab": {
          "base_uri": "https://localhost:8080/"
        },
        "id": "n5-8EjM8TaqF",
        "outputId": "62983ff6-ba8f-4fef-b892-e47d4e5c35a3"
      },
      "execution_count": null,
      "outputs": [
        {
          "output_type": "stream",
          "name": "stdout",
          "text": [
            "['HighBP', 'HighChol', 'CholCheck', 'Smoker', 'Stroke', 'HeartDiseaseorAttack', 'PhysActivity', 'Fruits', 'Veggies', 'HvyAlcoholConsump', 'AnyHealthcare', 'NoDocbcCost', 'GenHlth', 'DiffWalk', 'Sex', 'Age', 'Education', 'Income']\n"
          ]
        }
      ]
    },
    {
      "cell_type": "code",
      "source": [
        "from imblearn.under_sampling import NearMiss\n",
        "nm = NearMiss(version = 1 , n_neighbors = 10)\n",
        "\n",
        "\n",
        "# from imblearn.over_sampling import RandomOverSampler, SMOTE, ADASYN\n",
        "# # nm = SMOTE()  # 0.872103\n",
        "# nm = ADASYN()\n",
        "\n",
        "x_sm,y_sm= nm.fit_resample(X,y)\n",
        "X = x_sm\n",
        "y = y_sm\n"
      ],
      "metadata": {
        "id": "mQNN1778TdU1"
      },
      "execution_count": null,
      "outputs": []
    },
    {
      "cell_type": "code",
      "source": [
        "X = np.asarray(X)\n",
        "y = np.asarray(y)"
      ],
      "metadata": {
        "id": "3AtwBtr2Tvv3"
      },
      "execution_count": null,
      "outputs": []
    },
    {
      "cell_type": "markdown",
      "source": [
        "## Train Test Split"
      ],
      "metadata": {
        "id": "AHJy60ImZZnx"
      }
    },
    {
      "cell_type": "code",
      "execution_count": null,
      "metadata": {
        "id": "GZtTEkfqWe71"
      },
      "outputs": [],
      "source": [
        "X_train,X_test,y_train,y_test = train_test_split(X,y,random_state=42,train_size=0.7)"
      ]
    },
    {
      "cell_type": "code",
      "execution_count": null,
      "metadata": {
        "id": "AuxxJ8HqWe73"
      },
      "outputs": [],
      "source": [
        "from sklearn.preprocessing import StandardScaler,MinMaxScaler,MaxAbsScaler\n",
        "scaler = MinMaxScaler().fit(X_train)\n",
        "X_train = scaler.transform(X_train)\n",
        "X_test = scaler.transform(X_test)  "
      ]
    },
    {
      "cell_type": "markdown",
      "source": [
        "## Decision Stump Definition"
      ],
      "metadata": {
        "id": "K2s-f-FMZoZ6"
      }
    },
    {
      "cell_type": "code",
      "source": [
        "def decisionStumpClassifier(x_train, y_train,sample_weights,x_test):\n",
        "  finalModel = None\n",
        "  maxAcc = 0\n",
        "  no_of_features = x_train.shape[1]\n",
        "\n",
        "  for criterion in [\"entropy\", \"gini\"]:\n",
        "    for max_features in [\"sqrt\", \"log2\"]:\n",
        "      model = tree.DecisionTreeClassifier(max_depth=1, criterion=criterion, max_features=max_features)\n",
        "      model.fit(x_train, y_train, sample_weight=sample_weights)\n",
        "      scoreTrain = model.score(x_train,y_train)\n",
        "      scoreTest = model.score(x_test, y_test)\n",
        "      if(scoreTrain - scoreTest <= 0.02 and scoreTrain>maxAcc):\n",
        "        finalModel = model\n",
        "        maxAcc = scoreTrain\n",
        "\n",
        "  pred = finalModel.predict(x_train)\n",
        "  train_score = accuracy_score(pred, y_train)\n",
        "\n",
        "  print(\"Decision Tree Training Accuracy: \", train_score)\n",
        "  return finalModel,pred"
      ],
      "metadata": {
        "id": "fQcjftS-Unhs"
      },
      "execution_count": null,
      "outputs": []
    },
    {
      "cell_type": "code",
      "source": [
        "def decisionStumpPredictions(X_test,model):\n",
        "  pred = model.predict(X_test)\n",
        "  return pred"
      ],
      "metadata": {
        "id": "NQxtPyzaVhmd"
      },
      "execution_count": null,
      "outputs": []
    },
    {
      "cell_type": "markdown",
      "source": [
        "## Training the Model"
      ],
      "metadata": {
        "id": "LM0H8UU_Z0gn"
      }
    },
    {
      "cell_type": "code",
      "source": [
        "def decisionStumpClassifier(x_train, y_train,sample_weights,x_test):\n",
        "  finalModel = None\n",
        "  maxAcc = 0\n",
        "  no_of_features = x_train.shape[1]\n",
        "\n",
        "  for criterion in [\"entropy\", \"gini\"]:\n",
        "    for max_features in [\"sqrt\", \"log2\"]:\n",
        "      model = tree.DecisionTreeClassifier(max_depth=1, criterion=criterion, max_features=max_features)\n",
        "      model.fit(x_train, y_train, sample_weight=sample_weights)\n",
        "      scoreTrain = model.score(x_train,y_train)\n",
        "      scoreTest = model.score(x_test, y_test)\n",
        "      if(scoreTrain - scoreTest <= 0.02 and scoreTrain>maxAcc):\n",
        "        finalModel = model\n",
        "        maxAcc = scoreTrain\n",
        "\n",
        "  pred = finalModel.predict(x_train)\n",
        "  train_score = accuracy_score(pred, y_train)\n",
        "\n",
        "  print(\"Decision Tree Training Accuracy: \", train_score)\n",
        "  return finalModel,pred"
      ],
      "metadata": {
        "id": "kxWdt87rZ99_"
      },
      "execution_count": null,
      "outputs": []
    },
    {
      "cell_type": "code",
      "source": [
        "def decisionStumpPredictions(X_test,model):\n",
        "  pred = model.predict(X_test)\n",
        "  return pred"
      ],
      "metadata": {
        "id": "YoVoAtWtZ9-C"
      },
      "execution_count": null,
      "outputs": []
    },
    {
      "cell_type": "markdown",
      "source": [
        "## Evaluating Model Performance"
      ],
      "metadata": {
        "id": "GRFr4-K7aFCo"
      }
    },
    {
      "cell_type": "code",
      "source": [
        "final_predictions_test = np.zeros(X_test.shape[0])\n",
        "for i in range(len(trained_classifier_list)):\n",
        "  pred = decisionStumpPredictions(X_test,trained_classifier_list[i])\n",
        "  pred = list(map(lambda x : -1 if x==0 else 1,pred))\n",
        "  final_predictions_test+= [alpha_list[i]*x for x in pred]\n",
        "\n",
        "final_predictions_test = list(map(lambda x : 1 if x>=0 else 0 , final_predictions_test))"
      ],
      "metadata": {
        "id": "wkbUgIdrVsg1"
      },
      "execution_count": null,
      "outputs": []
    },
    {
      "cell_type": "code",
      "source": [
        "from sklearn.metrics import classification_report\n",
        "\n",
        "print(classification_report(final_predictions_test, y_test, digits=6))"
      ],
      "metadata": {
        "colab": {
          "base_uri": "https://localhost:8080/"
        },
        "outputId": "1f0848ec-535d-42bd-9cfc-b25fecb7ba60",
        "id": "YqiHh4kwVsg4"
      },
      "execution_count": null,
      "outputs": [
        {
          "output_type": "stream",
          "name": "stdout",
          "text": [
            "              precision    recall  f1-score   support\n",
            "\n",
            "           0   0.843209  0.811731  0.827171     12429\n",
            "           1   0.802881  0.835540  0.818885     11407\n",
            "\n",
            "    accuracy                       0.823125     23836\n",
            "   macro avg   0.823045  0.823635  0.823028     23836\n",
            "weighted avg   0.823910  0.823125  0.823205     23836\n",
            "\n"
          ]
        }
      ]
    },
    {
      "cell_type": "code",
      "source": [
        "final_predictions_train = np.zeros(X_train.shape[0])\n",
        "for i in range(len(trained_classifier_list)):\n",
        "  pred = decisionStumpPredictions(X_train,trained_classifier_list[i])\n",
        "  pred = list(map(lambda x : -1 if x==0 else 1,pred))\n",
        "  final_predictions_train+= [alpha_list[i]*x for x in pred]\n",
        "\n",
        "final_predictions_train = list(map(lambda x : 1 if x>=0 else 0 , final_predictions_train))"
      ],
      "metadata": {
        "id": "_eLIfELbVsg5"
      },
      "execution_count": null,
      "outputs": []
    },
    {
      "cell_type": "code",
      "source": [
        "from sklearn.metrics import classification_report\n",
        "\n",
        "print(classification_report(final_predictions_train, y_train, digits=6))"
      ],
      "metadata": {
        "colab": {
          "base_uri": "https://localhost:8080/"
        },
        "outputId": "8ee65b79-ecb5-4422-c48f-64058c5155bc",
        "id": "Lq6jgka_Vsg6"
      },
      "execution_count": null,
      "outputs": [
        {
          "output_type": "stream",
          "name": "stdout",
          "text": [
            "              precision    recall  f1-score   support\n",
            "\n",
            "           0   0.850798  0.813663  0.831816     29028\n",
            "           1   0.805816  0.844215  0.824569     26588\n",
            "\n",
            "    accuracy                       0.828269     55616\n",
            "   macro avg   0.828307  0.828939  0.828192     55616\n",
            "weighted avg   0.829294  0.828269  0.828351     55616\n",
            "\n"
          ]
        }
      ]
    },
    {
      "cell_type": "markdown",
      "source": [
        "# Hybrid Boosting"
      ],
      "metadata": {
        "id": "WkyqsHcjGRgp"
      }
    },
    {
      "cell_type": "markdown",
      "source": [
        "## Preprocessing"
      ],
      "metadata": {
        "id": "8KLP09H6JthN"
      }
    },
    {
      "cell_type": "code",
      "execution_count": null,
      "metadata": {
        "id": "zlBSqTVE6Fao"
      },
      "outputs": [],
      "source": [
        "data = pd.read_csv(\"https://raw.githubusercontent.com/bs-cse-iitb/FML_Project/main/diabetes_full.csv\")\n",
        "data = data.drop_duplicates()"
      ]
    },
    {
      "cell_type": "code",
      "execution_count": null,
      "metadata": {
        "id": "qdCso9aV1IvM"
      },
      "outputs": [],
      "source": [
        "data['Diabetes_012'] = np.where(data['Diabetes_012'] == 0.0,0.0,1.0)\n",
        "data.rename(columns={'Diabetes_012':'Diabetes_binary'},inplace=True)"
      ]
    },
    {
      "cell_type": "code",
      "execution_count": null,
      "metadata": {
        "id": "YTU2JDmi-M5o"
      },
      "outputs": [],
      "source": [
        "y = data.Diabetes_binary\n",
        "X = data.drop('Diabetes_binary',axis = 1)\n"
      ]
    },
    {
      "cell_type": "code",
      "execution_count": null,
      "metadata": {
        "colab": {
          "base_uri": "https://localhost:8080/"
        },
        "id": "Y-d_sK44-wwb",
        "outputId": "c3ba2ad8-359a-4174-b3bc-b5683021df5c"
      },
      "outputs": [
        {
          "output_type": "stream",
          "name": "stdout",
          "text": [
            "['HighBP', 'HighChol', 'CholCheck', 'Smoker', 'Stroke', 'HeartDiseaseorAttack', 'PhysActivity', 'Fruits', 'Veggies', 'HvyAlcoholConsump', 'AnyHealthcare', 'NoDocbcCost', 'GenHlth', 'DiffWalk', 'Sex', 'Age', 'Education', 'Income']\n"
          ]
        }
      ],
      "source": [
        "continous_var_list = ['BMI','MentHlth','PhysHlth']\n",
        "\n",
        "categorical_var  = []\n",
        "for var in X.columns:\n",
        "  if var not in continous_var_list:\n",
        "    categorical_var.append(var)\n",
        "print(categorical_var)\n",
        "X = pd.get_dummies(X,columns=categorical_var)"
      ]
    },
    {
      "cell_type": "code",
      "execution_count": null,
      "metadata": {
        "id": "A6yXmYEk82Oz"
      },
      "outputs": [],
      "source": [
        "from imblearn.under_sampling import NearMiss\n",
        "nm = NearMiss(version = 1 , n_neighbors = 10)\n",
        "\n",
        "\n",
        "# from imblearn.over_sampling import RandomOverSampler, SMOTE, ADASYN\n",
        "# # nm = SMOTE()  # 0.872103\n",
        "# nm = ADASYN()\n",
        "\n",
        "x_sm,y_sm= nm.fit_resample(X,y)\n",
        "X = x_sm\n",
        "y = y_sm\n"
      ]
    },
    {
      "cell_type": "code",
      "execution_count": null,
      "metadata": {
        "id": "uxf2lWvwW2T4"
      },
      "outputs": [],
      "source": [
        "no_of_features = len(X.columns)"
      ]
    },
    {
      "cell_type": "code",
      "execution_count": null,
      "metadata": {
        "id": "qRvRca2SGCbX"
      },
      "outputs": [],
      "source": [
        "X = np.asarray(X)\n",
        "y = np.asarray(y)"
      ]
    },
    {
      "cell_type": "markdown",
      "source": [
        "## Train Test Split"
      ],
      "metadata": {
        "id": "1o7dtr-zJzjF"
      }
    },
    {
      "cell_type": "code",
      "execution_count": null,
      "metadata": {
        "id": "BORvABdr91Xr"
      },
      "outputs": [],
      "source": [
        "X_train,X_test,y_train,y_test = train_test_split(X,y,random_state=42,train_size=0.7)"
      ]
    },
    {
      "cell_type": "code",
      "execution_count": null,
      "metadata": {
        "id": "z1b_PyiaCUhi"
      },
      "outputs": [],
      "source": [
        "from sklearn.preprocessing import StandardScaler,MinMaxScaler,MaxAbsScaler\n",
        "scaler = MinMaxScaler().fit(X_train)\n",
        "X_train = scaler.transform(X_train)\n",
        "X_test = scaler.transform(X_test)  "
      ]
    },
    {
      "cell_type": "markdown",
      "source": [
        "## Defining Functions for Classifiers"
      ],
      "metadata": {
        "id": "gcSqmSSkJ4ia"
      }
    },
    {
      "cell_type": "markdown",
      "source": [
        "### Naive Bayes"
      ],
      "metadata": {
        "id": "u_rWSob-uAPq"
      }
    },
    {
      "cell_type": "code",
      "source": [
        "def naiveBayesClassifier(X_train,y_train,sample_weights,X_test):\n",
        "  from sklearn.naive_bayes import GaussianNB\n",
        "  gnb = GaussianNB()\n",
        "  gnb.fit(X_train, y_train,sample_weight=sample_weights)\n",
        "  y_pred = gnb.predict(X_train)\n",
        "  train_score = accuracy_score(y_pred, y_train)\n",
        "\n",
        "  print(\"Naive Bayes Training Accuracy: \", train_score)\n",
        "  return gnb,y_pred"
      ],
      "metadata": {
        "id": "1p3BVrX6hLZA"
      },
      "execution_count": null,
      "outputs": []
    },
    {
      "cell_type": "code",
      "source": [
        "def naiveBayesPredictions(X_test,model):\n",
        "  pred = model.predict(X_test)\n",
        "  return pred"
      ],
      "metadata": {
        "id": "XR3fSpBBpZ5u"
      },
      "execution_count": null,
      "outputs": []
    },
    {
      "cell_type": "markdown",
      "source": [
        "### Logistic Classifier"
      ],
      "metadata": {
        "id": "73tXTn4nuDv9"
      }
    },
    {
      "cell_type": "code",
      "source": [
        "def logisticRegressionClassifier(X_train,y_train,sample_weights,X_test):\n",
        "  from sklearn.linear_model import LogisticRegression\n",
        "  from sklearn.metrics import accuracy_score\n",
        "\n",
        "  best_model = None\n",
        "  max_accuracy = 0.0\n",
        "  for i in np.arange(0.1,1.1,0.2):\n",
        "    for j in np.arange(0.1,1.1,0.2):\n",
        "\n",
        "      logisticRegressionModel = LogisticRegression(max_iter = 300, solver='saga', penalty='elasticnet', C=i, l1_ratio=j, tol=1e-1, warm_start=True)\n",
        "      logisticRegressionModel.fit(X_train, y_train, sample_weight = sample_weights)\n",
        "      y_pred = logisticRegressionModel.predict(X_test)\n",
        "      current_accuracy = accuracy_score(y_test, y_pred)\n",
        "      if(current_accuracy > max_accuracy):\n",
        "        best_model = logisticRegressionModel\n",
        "        max_accuracy = current_accuracy\n",
        "\n",
        "  y_pred = best_model.predict(X_train)\n",
        "  train_score = accuracy_score(y_pred, y_train)\n",
        "\n",
        "  print(\"Logistic Regression Training Accuracy: \", train_score)\n",
        "  return best_model,y_pred"
      ],
      "metadata": {
        "id": "NHn3BGNSuGR7"
      },
      "execution_count": null,
      "outputs": []
    },
    {
      "cell_type": "code",
      "source": [
        "def logisticRegressionPredictions(X_test,model):\n",
        "\n",
        "  pred = model.predict(X_test)\n",
        "  return pred"
      ],
      "metadata": {
        "id": "9PgN6tigv1Rk"
      },
      "execution_count": null,
      "outputs": []
    },
    {
      "cell_type": "markdown",
      "source": [
        "### Decision Trees"
      ],
      "metadata": {
        "id": "pds4HeVtNzSq"
      }
    },
    {
      "cell_type": "code",
      "source": [
        "def decisionTreeClassifier(x_train, y_train,sample_weights,x_test):\n",
        "  finalModel = None\n",
        "  maxAcc = 0\n",
        "  no_of_features = x_train.shape[1]\n",
        "  for depth in range(1,int(no_of_features),2):\n",
        "    for criterion in [\"entropy\", \"gini\"]:\n",
        "      for max_features in [\"sqrt\", \"log2\"]:\n",
        "        model = tree.DecisionTreeClassifier(max_depth=depth, criterion=criterion, max_features=max_features)\n",
        "        model.fit(x_train, y_train, sample_weight=sample_weights)\n",
        "        scoreTrain = model.score(x_train,y_train)\n",
        "        scoreTest = model.score(x_test, y_test)\n",
        "        if(scoreTrain - scoreTest <= 0.02 and scoreTrain>maxAcc):\n",
        "          finalModel = model\n",
        "          maxAcc = scoreTrain\n",
        "\n",
        "  pred = finalModel.predict(x_train)\n",
        "  train_score = accuracy_score(pred, y_train)\n",
        "\n",
        "  print(\"Decision Tree Training Accuracy: \", train_score)\n",
        "  return finalModel,pred"
      ],
      "metadata": {
        "id": "06P7j2H9N1lz"
      },
      "execution_count": null,
      "outputs": []
    },
    {
      "cell_type": "code",
      "source": [
        "def decisionTreePredictions(X_test,model):\n",
        "  pred = model.predict(X_test)\n",
        "  return pred"
      ],
      "metadata": {
        "id": "Jp1-B8HCOE2I"
      },
      "execution_count": null,
      "outputs": []
    },
    {
      "cell_type": "markdown",
      "source": [
        "### Neural Network"
      ],
      "metadata": {
        "id": "pyuCjU4FZ9Qm"
      }
    },
    {
      "cell_type": "code",
      "source": [
        "import tensorflow as tf\n",
        "from keras.models import Sequential\n",
        "from keras.layers import Dense\n",
        "import keras.layers as layers\n",
        "import keras\n",
        "def neuralNetworkClassifier(x_train,y_train,sample_weights,x_test):\n",
        "  model = Sequential()\n",
        "  # Grid Search NN\n",
        "  max_accuracy = 0.0\n",
        "  best_model = None\n",
        "\n",
        "  for i in {0.001}:\n",
        "    for j in {64}:\n",
        "      for k in {30}:\n",
        "\n",
        "        model.add(layers.InputLayer((x_train.shape[1],)))\n",
        "        model.add(Dense(32,activation='relu'))\n",
        "        model.add(Dense(64,activation='relu'))\n",
        "        model.add(Dense(1,activation='sigmoid'))\n",
        "\n",
        "        optimizer = keras.optimizers.Adam(learning_rate = i)\n",
        "        model.compile(loss='binary_crossentropy', optimizer=optimizer, metrics=['accuracy'],weighted_metrics=[tf.keras.losses.binary_crossentropy])\n",
        "        history = model.fit(x_train,y_train,batch_size=j,epochs=k,validation_split=0.2,sample_weight=sample_weights,verbose=0)\n",
        "        p_pred = model.predict(x_test)\n",
        "        p_pred = p_pred.flatten()\n",
        "\n",
        "        # extract the predicted class labels\n",
        "        y_pred = np.where(p_pred > 0.5, 1, 0)\n",
        "        \n",
        "        current_accuracy = accuracy_score(y_test,y_pred)\n",
        "        if(current_accuracy > max_accuracy):\n",
        "          best_model = model\n",
        "          max_accuracy = current_accuracy\n",
        "\n",
        "  pred = best_model.predict(x_train)\n",
        "  pred = pred.flatten()\n",
        "  pred = np.where(pred > 0.5, 1, 0)\n",
        "  train_score = accuracy_score(pred, y_train)\n",
        "\n",
        "  print(\"Neural Network Accuracy : \",train_score)\n",
        "  return best_model,pred\n"
      ],
      "metadata": {
        "id": "m7FlN7N8aBEg"
      },
      "execution_count": null,
      "outputs": []
    },
    {
      "cell_type": "code",
      "source": [
        "def neuralNetworkPredictions(X_test,model):\n",
        "  pred = model.predict(X_test)\n",
        "  pred = pred.flatten()\n",
        "  pred = np.where(pred>0.5,1,0)\n",
        "  return pred"
      ],
      "metadata": {
        "id": "w0Ka9v7JbC4d"
      },
      "execution_count": null,
      "outputs": []
    },
    {
      "cell_type": "markdown",
      "source": [
        "### SVM with Kernel"
      ],
      "metadata": {
        "id": "eGFoJ80rqIYq"
      }
    },
    {
      "cell_type": "code",
      "source": [
        "from sklearn.svm import SVC\n",
        "from sklearn.svm import NuSVC\n",
        "from sklearn.svm import LinearSVC\n",
        "from sklearn.model_selection import GridSearchCV"
      ],
      "metadata": {
        "id": "9miSXEWjqh6N"
      },
      "execution_count": null,
      "outputs": []
    },
    {
      "cell_type": "code",
      "source": [
        "def svmClassifier(X_train,Y_train,sample_weights,x_test):\n",
        "\n",
        "  clf = SVC(tol=1e-2, kernel='rbf', C=1)\n",
        "  clf.fit(X_train, Y_train, sample_weight = sample_weights)\n",
        "\n",
        "  Y_pred = clf.predict(X_test)\n",
        "  Y_train_pred = clf.predict(X_train)\n",
        "\n",
        "  train_score = accuracy_score(Y_train_pred, y_train)\n",
        "\n",
        "  print(\"SVM Training Accuracy: \", train_score)\n",
        "\n",
        "  return clf,Y_train_pred\n"
      ],
      "metadata": {
        "id": "DW_1_7AkqH8g"
      },
      "execution_count": null,
      "outputs": []
    },
    {
      "cell_type": "code",
      "source": [
        "def svmPredictions(X_test,model):\n",
        "  pred = model.predict(X_test)\n",
        "  return pred"
      ],
      "metadata": {
        "id": "Js2KAAcGrGXc"
      },
      "execution_count": null,
      "outputs": []
    },
    {
      "cell_type": "code",
      "source": [
        "from sklearn import tree\n",
        "from sklearn import ensemble"
      ],
      "metadata": {
        "id": "qwpVQHiic35Z"
      },
      "execution_count": null,
      "outputs": []
    },
    {
      "cell_type": "markdown",
      "source": [
        "## Training Boosting Model"
      ],
      "metadata": {
        "id": "GdA0Uk-3LRoE"
      }
    },
    {
      "cell_type": "code",
      "source": [
        "import math \n",
        "\n",
        "error_list = []\n",
        "N = X_train.shape[0]\n",
        "sample_weights = np.ones(N)\n",
        "\n",
        "trained_classifier_list = []\n",
        "alpha_list = []\n",
        "\n",
        "classifier_function_list = [svmClassifier,neuralNetworkClassifier,logisticRegressionClassifier,decisionTreeClassifier,naiveBayesClassifier]\n",
        "\n",
        "\n",
        "\n",
        "#Training Boosting Classifier\n",
        "for classifier in classifier_function_list:\n",
        "\n",
        "  #Training the model with sample weights \n",
        "  model,y_pred = classifier(X_train,y_train,sample_weights,X_test)\n",
        "\n",
        "  #Calculating e^t\n",
        "  error = 0\n",
        "  for i in range(len(sample_weights)):\n",
        "    if(y_pred[i] != y_train[i]):\n",
        "      error+=sample_weights[i]\n",
        "\n",
        "  #Calculating alpha = 1/2*ln((1-e^t)/e^t)\n",
        "\n",
        "  error=error/N\n",
        "\n",
        "  error_list.append(error)\n",
        "  alpha = 1/2*(math.log((1-error)/error))\n",
        "\n",
        "  #Storing alpha and classifer \n",
        "  alpha_list.append(alpha)\n",
        "  trained_classifier_list.append(model)\n",
        "\n",
        "  #Calculating Normalizing constant for constrianst sum of all weights = 1 \n",
        "  Z = sum(sample_weights)/N\n",
        "\n",
        "  #Updating Sample weights \n",
        "  for i in range(len(sample_weights)):\n",
        "    if(y_pred[i] == y_train[i]):\n",
        "      sample_weights[i] = (sample_weights[i]*(math.sqrt(error/(1-error))))/Z\n",
        "    else:\n",
        "      sample_weights[i] = (sample_weights[i]*(math.sqrt((1-error)/error)))/Z\n",
        "\n",
        "  "
      ],
      "metadata": {
        "id": "MGYg2nRnpnME",
        "colab": {
          "base_uri": "https://localhost:8080/"
        },
        "outputId": "7c781c18-fee2-4822-bac4-fa5fcfd2d708"
      },
      "execution_count": null,
      "outputs": [
        {
          "output_type": "stream",
          "name": "stdout",
          "text": [
            "SVM Training Accuracy:  0.8554193037974683\n",
            "745/745 [==============================] - 1s 1ms/step\n",
            "1738/1738 [==============================] - 2s 1ms/step\n",
            "Neural Network Accuracy :  0.739661248561565\n",
            "Logistic Regression Training Accuracy:  0.804067174913694\n",
            "Decision Tree Training Accuracy:  0.5716160817031071\n",
            "Naive Bayes Training Accuracy:  0.8117628020713463\n"
          ]
        }
      ]
    },
    {
      "cell_type": "markdown",
      "source": [
        "## Evaluating Boosting Model"
      ],
      "metadata": {
        "id": "7fqYNTQWoD66"
      }
    },
    {
      "cell_type": "code",
      "source": [
        "# prediciton_function_list = [naiveBayesPredictions,logisticRegressionPredictions, decisionTreePredictions, randomForestPredictions]\n",
        "prediciton_function_list = [svmPredictions,neuralNetworkPredictions,logisticRegressionPredictions, decisionTreePredictions,naiveBayesPredictions]\n"
      ],
      "metadata": {
        "id": "P03X8WNyoXU6"
      },
      "execution_count": null,
      "outputs": []
    },
    {
      "cell_type": "code",
      "source": [
        "final_predictions_test = np.zeros(X_test.shape[0])\n",
        "for i in range(len(trained_classifier_list)):\n",
        "  pred = prediciton_function_list[i](X_test,trained_classifier_list[i])\n",
        "  pred = list(map(lambda x : -1 if x==0 else 1,pred))\n",
        "  final_predictions_test+= [alpha_list[i]*x for x in pred]\n",
        "\n",
        "final_predictions_test = list(map(lambda x : 1 if x>=0 else 0 , final_predictions_test))"
      ],
      "metadata": {
        "colab": {
          "base_uri": "https://localhost:8080/"
        },
        "id": "MWczUzrvce3p",
        "outputId": "697ee537-ea51-46ed-80c1-fb6fdbc1c705"
      },
      "execution_count": null,
      "outputs": [
        {
          "output_type": "stream",
          "name": "stdout",
          "text": [
            "745/745 [==============================] - 1s 2ms/step\n"
          ]
        }
      ]
    },
    {
      "cell_type": "code",
      "source": [
        "from sklearn.metrics import classification_report\n",
        "\n",
        "print(classification_report(final_predictions_test, y_test, digits=6))"
      ],
      "metadata": {
        "colab": {
          "base_uri": "https://localhost:8080/"
        },
        "id": "aDKG7spxse4Y",
        "outputId": "829f4f33-1d1e-4e5b-f54d-dbb790006bd7"
      },
      "execution_count": null,
      "outputs": [
        {
          "output_type": "stream",
          "name": "stdout",
          "text": [
            "              precision    recall  f1-score   support\n",
            "\n",
            "           0   0.939908  0.800085  0.864379     14056\n",
            "           1   0.763289  0.926483  0.837005      9780\n",
            "\n",
            "    accuracy                       0.851947     23836\n",
            "   macro avg   0.851598  0.863284  0.850692     23836\n",
            "weighted avg   0.867440  0.851947  0.853147     23836\n",
            "\n"
          ]
        }
      ]
    },
    {
      "cell_type": "code",
      "source": [
        "final_predictions_train = np.zeros(X_train.shape[0])\n",
        "for i in range(len(trained_classifier_list)):\n",
        "  pred = prediciton_function_list[i](X_train,trained_classifier_list[i])\n",
        "  pred = list(map(lambda x : -1 if x==0 else 1,pred))\n",
        "  final_predictions_train+= [alpha_list[i]*x for x in pred]\n",
        "\n",
        "final_predictions_train = list(map(lambda x : 1 if x>=0 else 0 , final_predictions_train))"
      ],
      "metadata": {
        "colab": {
          "base_uri": "https://localhost:8080/"
        },
        "id": "OEceoRxWlGR9",
        "outputId": "ab3a28fe-71bc-48e5-832e-5110f3afbd6b"
      },
      "execution_count": null,
      "outputs": [
        {
          "output_type": "stream",
          "name": "stdout",
          "text": [
            "1738/1738 [==============================] - 2s 1ms/step\n"
          ]
        }
      ]
    },
    {
      "cell_type": "code",
      "source": [
        "from sklearn.metrics import classification_report\n",
        "\n",
        "print(classification_report(final_predictions_train, y_train, digits=6))"
      ],
      "metadata": {
        "colab": {
          "base_uri": "https://localhost:8080/"
        },
        "id": "pqM8uccflWqM",
        "outputId": "8b1b6192-6a2c-40ef-88d9-db2152cf92f4"
      },
      "execution_count": null,
      "outputs": [
        {
          "output_type": "stream",
          "name": "stdout",
          "text": [
            "              precision    recall  f1-score   support\n",
            "\n",
            "           0   0.951082  0.807382  0.873361     32702\n",
            "           1   0.773865  0.940735  0.849180     22914\n",
            "\n",
            "    accuracy                       0.862324     55616\n",
            "   macro avg   0.862474  0.874058  0.861270     55616\n",
            "weighted avg   0.878068  0.862324  0.863398     55616\n",
            "\n"
          ]
        }
      ]
    },
    {
      "cell_type": "markdown",
      "source": [
        "##Intersection of missclassified points"
      ],
      "metadata": {
        "id": "WjIug-ttoIUU"
      }
    },
    {
      "cell_type": "code",
      "source": [
        "!pip install venn"
      ],
      "metadata": {
        "colab": {
          "base_uri": "https://localhost:8080/"
        },
        "id": "5_jE-ew5oY6g",
        "outputId": "04cd756d-be36-4161-de85-9fee237106d0"
      },
      "execution_count": null,
      "outputs": [
        {
          "output_type": "stream",
          "name": "stdout",
          "text": [
            "Looking in indexes: https://pypi.org/simple, https://us-python.pkg.dev/colab-wheels/public/simple/\n",
            "Collecting venn\n",
            "  Downloading venn-0.1.3.tar.gz (19 kB)\n",
            "Requirement already satisfied: matplotlib in /usr/local/lib/python3.7/dist-packages (from venn) (3.2.2)\n",
            "Requirement already satisfied: python-dateutil>=2.1 in /usr/local/lib/python3.7/dist-packages (from matplotlib->venn) (2.8.2)\n",
            "Requirement already satisfied: kiwisolver>=1.0.1 in /usr/local/lib/python3.7/dist-packages (from matplotlib->venn) (1.4.4)\n",
            "Requirement already satisfied: cycler>=0.10 in /usr/local/lib/python3.7/dist-packages (from matplotlib->venn) (0.11.0)\n",
            "Requirement already satisfied: numpy>=1.11 in /usr/local/lib/python3.7/dist-packages (from matplotlib->venn) (1.21.6)\n",
            "Requirement already satisfied: pyparsing!=2.0.4,!=2.1.2,!=2.1.6,>=2.0.1 in /usr/local/lib/python3.7/dist-packages (from matplotlib->venn) (3.0.9)\n",
            "Requirement already satisfied: typing-extensions in /usr/local/lib/python3.7/dist-packages (from kiwisolver>=1.0.1->matplotlib->venn) (4.1.1)\n",
            "Requirement already satisfied: six>=1.5 in /usr/local/lib/python3.7/dist-packages (from python-dateutil>=2.1->matplotlib->venn) (1.15.0)\n",
            "Building wheels for collected packages: venn\n",
            "  Building wheel for venn (setup.py) ... \u001b[?25l\u001b[?25hdone\n",
            "  Created wheel for venn: filename=venn-0.1.3-py3-none-any.whl size=19713 sha256=c36f848cac08c42405419b648b9734426352fa8706b7870fbf4e42d02210d9df\n",
            "  Stored in directory: /root/.cache/pip/wheels/85/8c/61/85a84e4c69c79c6475b9689755fc4ee4dae0bdc32b101011cb\n",
            "Successfully built venn\n",
            "Installing collected packages: venn\n",
            "Successfully installed venn-0.1.3\n"
          ]
        }
      ]
    },
    {
      "cell_type": "code",
      "source": [
        "from matplotlib_venn import venn3, venn3_circles\n",
        "from matplotlib import pyplot as plt\n",
        "\n",
        "M = []\n",
        "for i,classifier_model in enumerate(trained_classifier_list):\n",
        "  pred = prediciton_function_list[i](X_train,trained_classifier_list[i])\n",
        "  misclassified_set = set()\n",
        "  for j in range(0,len(pred),1):\n",
        "    if(pred[j] != y_train[j]):\n",
        "      misclassified_set.add(j)\n",
        "  M.append(misclassified_set)\n",
        "  if(i==3):\n",
        "    break"
      ],
      "metadata": {
        "colab": {
          "base_uri": "https://localhost:8080/"
        },
        "id": "J7J0YiOYnwMZ",
        "outputId": "731f5915-926a-4977-a127-fbd79500dd99"
      },
      "execution_count": null,
      "outputs": [
        {
          "output_type": "stream",
          "name": "stdout",
          "text": [
            "1738/1738 [==============================] - 2s 1ms/step\n"
          ]
        }
      ]
    },
    {
      "cell_type": "code",
      "source": [
        "Ab = M[0].difference(M[1])\n",
        "Ac = M[0].difference(M[2])\n",
        "Ba = M[1].difference(M[0])\n",
        "Bc = M[1].difference(M[2])\n",
        "Ca = M[2].difference(M[0])\n",
        "\n",
        "AB = M[0].intersection(M[1])\n",
        "ABc = AB.difference(M[2])\n",
        "\n",
        "AC = M[0].intersection(M[2])\n",
        "ACb = AC.difference(M[1])\n",
        "\n",
        "BC = M[1].intersection(M[2])\n",
        "BCa = BC.difference(M[0])\n",
        "\n",
        "ABC = AB.intersection(M[2])\n",
        "\n",
        "Abc = Ab.difference(M[2])\n",
        "Bac = Ba.difference(M[2])\n",
        "Cab = Ca.difference(M[1])\n",
        "\n",
        "fig = plt.figure(figsize=(10, 6))\n",
        "venn3(subsets = (len(Abc), len(Bac), len(ABc), len(Cab), len(ACb), len(BCa), len(ABC)), set_labels = ('SVM', 'Neural Network', 'Logistic'), alpha = 0.5)\n",
        "venn3_circles(subsets=(len(Abc), len(Bac), len(ABc), len(Cab), len(ACb), len(BCa), len(ABC)), linestyle=\"dashed\", linewidth=2)\n",
        "\n",
        "from google.colab import files\n",
        "plt.savefig(\"venn.pdf\", bbox_inches = 'tight')\n",
        "files.download(\"venn.pdf\")"
      ],
      "metadata": {
        "colab": {
          "base_uri": "https://localhost:8080/",
          "height": 357
        },
        "id": "R0g06T0BoXGN",
        "outputId": "d6623b59-651a-4416-9ca5-fc93b958d23f"
      },
      "execution_count": null,
      "outputs": [
        {
          "output_type": "display_data",
          "data": {
            "text/plain": [
              "<IPython.core.display.Javascript object>"
            ],
            "application/javascript": [
              "\n",
              "    async function download(id, filename, size) {\n",
              "      if (!google.colab.kernel.accessAllowed) {\n",
              "        return;\n",
              "      }\n",
              "      const div = document.createElement('div');\n",
              "      const label = document.createElement('label');\n",
              "      label.textContent = `Downloading \"${filename}\": `;\n",
              "      div.appendChild(label);\n",
              "      const progress = document.createElement('progress');\n",
              "      progress.max = size;\n",
              "      div.appendChild(progress);\n",
              "      document.body.appendChild(div);\n",
              "\n",
              "      const buffers = [];\n",
              "      let downloaded = 0;\n",
              "\n",
              "      const channel = await google.colab.kernel.comms.open(id);\n",
              "      // Send a message to notify the kernel that we're ready.\n",
              "      channel.send({})\n",
              "\n",
              "      for await (const message of channel.messages) {\n",
              "        // Send a message to notify the kernel that we're ready.\n",
              "        channel.send({})\n",
              "        if (message.buffers) {\n",
              "          for (const buffer of message.buffers) {\n",
              "            buffers.push(buffer);\n",
              "            downloaded += buffer.byteLength;\n",
              "            progress.value = downloaded;\n",
              "          }\n",
              "        }\n",
              "      }\n",
              "      const blob = new Blob(buffers, {type: 'application/binary'});\n",
              "      const a = document.createElement('a');\n",
              "      a.href = window.URL.createObjectURL(blob);\n",
              "      a.download = filename;\n",
              "      div.appendChild(a);\n",
              "      a.click();\n",
              "      div.remove();\n",
              "    }\n",
              "  "
            ]
          },
          "metadata": {}
        },
        {
          "output_type": "display_data",
          "data": {
            "text/plain": [
              "<IPython.core.display.Javascript object>"
            ],
            "application/javascript": [
              "download(\"download_dba9153a-aaa9-4806-bb32-31aba321ec0c\", \"venn.pdf\", 13368)"
            ]
          },
          "metadata": {}
        },
        {
          "output_type": "display_data",
          "data": {
            "text/plain": [
              "<Figure size 720x432 with 1 Axes>"
            ],
            "image/png": "[encoded data removed]"
          },
          "metadata": {}
        }
      ]
    },
    {
      "cell_type": "code",
      "source": [
        "from venn import venn\n",
        "\n",
        "\n",
        "misclassified = {\n",
        "    \n",
        "    \"NN\" : M[0],\n",
        "    \"Logistic\": M[1],\n",
        "    \"Decision\": M[2],\n",
        "    \"Naive\": M[3]\n",
        "}\n",
        "\n",
        "venn(misclassified)"
      ],
      "metadata": {
        "id": "exnXK36Yozz6"
      },
      "execution_count": null,
      "outputs": []
    }
  ]
}